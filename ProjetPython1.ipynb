{
 "cells": [
  {
   "cell_type": "markdown",
   "metadata": {},
   "source": [
    "# ENSAE Master Spécialisé Data Science - Projet Python de 1er semestre"
   ]
  },
  {
   "cell_type": "markdown",
   "metadata": {},
   "source": [
    "*Par Alexandre Combessie et Thibaut Duguet*"
   ]
  },
  {
   "cell_type": "markdown",
   "metadata": {},
   "source": [
    "## Chargement des données"
   ]
  },
  {
   "cell_type": "markdown",
   "metadata": {},
   "source": [
    "Les données complètes sont disponibles sur le site http://jmcauley.ucsd.edu/data/amazon/links.html. Pour commencer, on se concentre sur des bases de données pour des catégories spécifiques de produit, afin d'avoir une taille raisonnable."
   ]
  },
  {
   "cell_type": "code",
   "execution_count": 1,
   "metadata": {
    "collapsed": false
   },
   "outputs": [],
   "source": [
    "import os\n",
    "import json\n",
    "import gzip\n",
    "import pandas as pd\n",
    "import numpy as np\n",
    "import matplotlib\n",
    "import matplotlib.pyplot as plt\n",
    "import numpy as np\n",
    "import ipywidgets as widgets\n",
    "from IPython.display import display\n",
    "import statistics as stat\n",
    "from io import StringIO\n",
    "import nltk\n",
    "import sklearn"
   ]
  },
  {
   "cell_type": "markdown",
   "metadata": {},
   "source": [
    "Tout d'abord, on sélectionne la catégorie de produit à étudier:"
   ]
  },
  {
   "cell_type": "code",
   "execution_count": 2,
   "metadata": {
    "collapsed": false
   },
   "outputs": [],
   "source": [
    "category_options={\n",
    "    \"Musical Instruments\": \"reviews_Musical_Instruments.json.gz\",\n",
    "    \"Baby\": \"reviews_Baby.json.gz\",\n",
    "    \"Movies and TV\": \"reviews_Movies_and_TV.json.gz\",\n",
    "}\n",
    "dropdown = widgets.Dropdown(options=category_options, description=\"Catégorie de produit à étudier\")\n",
    "display(dropdown)"
   ]
  },
  {
   "cell_type": "markdown",
   "metadata": {},
   "source": [
    "Ensuite, on décompresse le fichier pour obtenir un fichier en format json"
   ]
  },
  {
   "cell_type": "code",
   "execution_count": 3,
   "metadata": {
    "collapsed": false
   },
   "outputs": [],
   "source": [
    "if(not(os.path.isfile(dropdown.value[:-3]))):\n",
    "    inputFile = gzip.open(dropdown.value, 'rb')\n",
    "    outputFile = open(dropdown.value[:-3], 'wb')\n",
    "    outputFile.write(inputFile.read())\n",
    "    inputFile.close()\n",
    "    outputFile.close()"
   ]
  },
  {
   "cell_type": "markdown",
   "metadata": {},
   "source": [
    "On la transforme en Pandas DataFrame "
   ]
  },
  {
   "cell_type": "code",
   "execution_count": 4,
   "metadata": {
    "collapsed": false
   },
   "outputs": [],
   "source": [
    "data=[]\n",
    "filepath=dropdown.value[:-3]\n",
    "with open(filepath) as f:\n",
    "    for line in f:\n",
    "        data.append(json.loads(line))\n",
    "df=pd.DataFrame(data)"
   ]
  },
  {
   "cell_type": "code",
   "execution_count": 5,
   "metadata": {
    "collapsed": false
   },
   "outputs": [
    {
     "data": {
      "text/html": [
       "<div>\n",
       "<table border=\"1\" class=\"dataframe\">\n",
       "  <thead>\n",
       "    <tr style=\"text-align: right;\">\n",
       "      <th></th>\n",
       "      <th>asin</th>\n",
       "      <th>helpful</th>\n",
       "      <th>overall</th>\n",
       "      <th>reviewText</th>\n",
       "      <th>reviewTime</th>\n",
       "      <th>reviewerID</th>\n",
       "      <th>reviewerName</th>\n",
       "      <th>summary</th>\n",
       "      <th>unixReviewTime</th>\n",
       "    </tr>\n",
       "  </thead>\n",
       "  <tbody>\n",
       "    <tr>\n",
       "      <th>0</th>\n",
       "      <td>0006428320</td>\n",
       "      <td>[0, 0]</td>\n",
       "      <td>3</td>\n",
       "      <td>The portfolio is fine except for the fact that...</td>\n",
       "      <td>03 11, 2014</td>\n",
       "      <td>A1YS9MDZP93857</td>\n",
       "      <td>John Taylor</td>\n",
       "      <td>Parts missing</td>\n",
       "      <td>1394496000</td>\n",
       "    </tr>\n",
       "    <tr>\n",
       "      <th>1</th>\n",
       "      <td>0014072149</td>\n",
       "      <td>[0, 0]</td>\n",
       "      <td>5</td>\n",
       "      <td>If you are a serious violin student on a budge...</td>\n",
       "      <td>06 6, 2013</td>\n",
       "      <td>A3TS466QBAWB9D</td>\n",
       "      <td>Silver Pencil</td>\n",
       "      <td>Perform it with a friend, today!</td>\n",
       "      <td>1370476800</td>\n",
       "    </tr>\n",
       "    <tr>\n",
       "      <th>2</th>\n",
       "      <td>0041291905</td>\n",
       "      <td>[0, 0]</td>\n",
       "      <td>5</td>\n",
       "      <td>This is and excellent edition and perfectly tr...</td>\n",
       "      <td>10 14, 2013</td>\n",
       "      <td>A3BUDYITWUSIS7</td>\n",
       "      <td>joyce gabriel cornett</td>\n",
       "      <td>Vivalldi's Four Seasons</td>\n",
       "      <td>1381708800</td>\n",
       "    </tr>\n",
       "    <tr>\n",
       "      <th>3</th>\n",
       "      <td>0041913574</td>\n",
       "      <td>[0, 0]</td>\n",
       "      <td>5</td>\n",
       "      <td>Perfect for someone who is an opera fan or a w...</td>\n",
       "      <td>09 23, 2010</td>\n",
       "      <td>A19K10Z0D2NTZK</td>\n",
       "      <td>TexasCowboy</td>\n",
       "      <td>Full score: voice and orchestra</td>\n",
       "      <td>1285200000</td>\n",
       "    </tr>\n",
       "    <tr>\n",
       "      <th>4</th>\n",
       "      <td>0201891859</td>\n",
       "      <td>[0, 1]</td>\n",
       "      <td>1</td>\n",
       "      <td>How many Nocturnes does it contain? All of the...</td>\n",
       "      <td>10 17, 2012</td>\n",
       "      <td>A14X336IB4JD89</td>\n",
       "      <td>dfjm53</td>\n",
       "      <td>Unable to determine contents</td>\n",
       "      <td>1350432000</td>\n",
       "    </tr>\n",
       "  </tbody>\n",
       "</table>\n",
       "</div>"
      ],
      "text/plain": [
       "         asin helpful  overall  \\\n",
       "0  0006428320  [0, 0]        3   \n",
       "1  0014072149  [0, 0]        5   \n",
       "2  0041291905  [0, 0]        5   \n",
       "3  0041913574  [0, 0]        5   \n",
       "4  0201891859  [0, 1]        1   \n",
       "\n",
       "                                          reviewText   reviewTime  \\\n",
       "0  The portfolio is fine except for the fact that...  03 11, 2014   \n",
       "1  If you are a serious violin student on a budge...   06 6, 2013   \n",
       "2  This is and excellent edition and perfectly tr...  10 14, 2013   \n",
       "3  Perfect for someone who is an opera fan or a w...  09 23, 2010   \n",
       "4  How many Nocturnes does it contain? All of the...  10 17, 2012   \n",
       "\n",
       "       reviewerID           reviewerName                           summary  \\\n",
       "0  A1YS9MDZP93857            John Taylor                     Parts missing   \n",
       "1  A3TS466QBAWB9D          Silver Pencil  Perform it with a friend, today!   \n",
       "2  A3BUDYITWUSIS7  joyce gabriel cornett           Vivalldi's Four Seasons   \n",
       "3  A19K10Z0D2NTZK            TexasCowboy   Full score: voice and orchestra   \n",
       "4  A14X336IB4JD89                 dfjm53      Unable to determine contents   \n",
       "\n",
       "   unixReviewTime  \n",
       "0      1394496000  \n",
       "1      1370476800  \n",
       "2      1381708800  \n",
       "3      1285200000  \n",
       "4      1350432000  "
      ]
     },
     "execution_count": 5,
     "metadata": {},
     "output_type": "execute_result"
    }
   ],
   "source": [
    "df.head()"
   ]
  },
  {
   "cell_type": "markdown",
   "metadata": {},
   "source": [
    "## Séparation Training and Validation sets"
   ]
  },
  {
   "cell_type": "markdown",
   "metadata": {},
   "source": [
    "Avant de commencer toute analyse ou modélisation, il faut séparer l'échantillon d'entrainement et l'échantillon de validation. On procède comme suit:"
   ]
  },
  {
   "cell_type": "code",
   "execution_count": 6,
   "metadata": {
    "collapsed": false
   },
   "outputs": [
    {
     "name": "stdout",
     "output_type": "stream",
     "text": [
      "(400146, 9) (100037, 9)\n"
     ]
    }
   ],
   "source": [
    "from sklearn.cross_validation import train_test_split\n",
    "y = df[\"overall\"]\n",
    "X = df.drop(\"overall\",axis=1,inplace=False)\n",
    "X_train,X_test,y_train,y_test = train_test_split(X.index,y,test_size=0.2)\n",
    "df_train=pd.concat([X,y],axis=1).iloc[X_train] # return dataframe train\n",
    "df_test=pd.concat([X,y],axis=1).iloc[X_test] # return dataframe test\n",
    "print(df_train.shape, df_test.shape)"
   ]
  },
  {
   "cell_type": "markdown",
   "metadata": {},
   "source": [
    "## Analyse descriptive"
   ]
  },
  {
   "cell_type": "markdown",
   "metadata": {},
   "source": [
    "Regardons la structure de la table:"
   ]
  },
  {
   "cell_type": "code",
   "execution_count": 7,
   "metadata": {
    "collapsed": false
   },
   "outputs": [
    {
     "data": {
      "text/html": [
       "<div>\n",
       "<table border=\"1\" class=\"dataframe\">\n",
       "  <thead>\n",
       "    <tr style=\"text-align: right;\">\n",
       "      <th></th>\n",
       "      <th>asin</th>\n",
       "      <th>helpful</th>\n",
       "      <th>reviewText</th>\n",
       "      <th>reviewTime</th>\n",
       "      <th>reviewerID</th>\n",
       "      <th>reviewerName</th>\n",
       "      <th>summary</th>\n",
       "      <th>unixReviewTime</th>\n",
       "      <th>overall</th>\n",
       "    </tr>\n",
       "  </thead>\n",
       "  <tbody>\n",
       "    <tr>\n",
       "      <th>274339</th>\n",
       "      <td>B002H3BOW6</td>\n",
       "      <td>[0, 0]</td>\n",
       "      <td>My daughter tried these last year in 6th grade...</td>\n",
       "      <td>09 16, 2010</td>\n",
       "      <td>AQ5EREWSIGTVX</td>\n",
       "      <td>D. Thiesies</td>\n",
       "      <td>Durable and playable.</td>\n",
       "      <td>1284595200</td>\n",
       "      <td>5</td>\n",
       "    </tr>\n",
       "    <tr>\n",
       "      <th>159323</th>\n",
       "      <td>B000LICZN6</td>\n",
       "      <td>[0, 0]</td>\n",
       "      <td>had this installed on my 2nd Viola after one o...</td>\n",
       "      <td>03 25, 2014</td>\n",
       "      <td>A2HSI4LRKW0I2N</td>\n",
       "      <td>ASL4U</td>\n",
       "      <td>very nice</td>\n",
       "      <td>1395705600</td>\n",
       "      <td>4</td>\n",
       "    </tr>\n",
       "    <tr>\n",
       "      <th>267538</th>\n",
       "      <td>B002A4J0R8</td>\n",
       "      <td>[6, 6]</td>\n",
       "      <td>I've read and researched as much as I could be...</td>\n",
       "      <td>04 2, 2011</td>\n",
       "      <td>A137F1NHC9RIQY</td>\n",
       "      <td>Alex</td>\n",
       "      <td>Great Bass</td>\n",
       "      <td>1301702400</td>\n",
       "      <td>5</td>\n",
       "    </tr>\n",
       "    <tr>\n",
       "      <th>437211</th>\n",
       "      <td>B008LD9JMI</td>\n",
       "      <td>[0, 0]</td>\n",
       "      <td>I just received, unpacked, rosined and tuned m...</td>\n",
       "      <td>08 5, 2013</td>\n",
       "      <td>A22XMLGYTXW4K9</td>\n",
       "      <td>Eric Beatty</td>\n",
       "      <td>Great deal for the price!</td>\n",
       "      <td>1375660800</td>\n",
       "      <td>4</td>\n",
       "    </tr>\n",
       "    <tr>\n",
       "      <th>123325</th>\n",
       "      <td>B000BKXF4M</td>\n",
       "      <td>[1, 1]</td>\n",
       "      <td>This is just absolutely perfect with my keyboa...</td>\n",
       "      <td>03 12, 2013</td>\n",
       "      <td>ATDP8FLF8FRDJ</td>\n",
       "      <td>Tricia</td>\n",
       "      <td>Perfect</td>\n",
       "      <td>1363046400</td>\n",
       "      <td>5</td>\n",
       "    </tr>\n",
       "  </tbody>\n",
       "</table>\n",
       "</div>"
      ],
      "text/plain": [
       "              asin helpful                                         reviewText  \\\n",
       "274339  B002H3BOW6  [0, 0]  My daughter tried these last year in 6th grade...   \n",
       "159323  B000LICZN6  [0, 0]  had this installed on my 2nd Viola after one o...   \n",
       "267538  B002A4J0R8  [6, 6]  I've read and researched as much as I could be...   \n",
       "437211  B008LD9JMI  [0, 0]  I just received, unpacked, rosined and tuned m...   \n",
       "123325  B000BKXF4M  [1, 1]  This is just absolutely perfect with my keyboa...   \n",
       "\n",
       "         reviewTime      reviewerID reviewerName                    summary  \\\n",
       "274339  09 16, 2010   AQ5EREWSIGTVX  D. Thiesies      Durable and playable.   \n",
       "159323  03 25, 2014  A2HSI4LRKW0I2N        ASL4U                  very nice   \n",
       "267538   04 2, 2011  A137F1NHC9RIQY         Alex                 Great Bass   \n",
       "437211   08 5, 2013  A22XMLGYTXW4K9  Eric Beatty  Great deal for the price!   \n",
       "123325  03 12, 2013   ATDP8FLF8FRDJ       Tricia                    Perfect   \n",
       "\n",
       "        unixReviewTime  overall  \n",
       "274339      1284595200        5  \n",
       "159323      1395705600        4  \n",
       "267538      1301702400        5  \n",
       "437211      1375660800        4  \n",
       "123325      1363046400        5  "
      ]
     },
     "execution_count": 7,
     "metadata": {},
     "output_type": "execute_result"
    }
   ],
   "source": [
    "df_train.head()"
   ]
  },
  {
   "cell_type": "markdown",
   "metadata": {},
   "source": [
    "Etudions les dimensions clés de la table:"
   ]
  },
  {
   "cell_type": "code",
   "execution_count": 8,
   "metadata": {
    "collapsed": false
   },
   "outputs": [
    {
     "name": "stdout",
     "output_type": "stream",
     "text": [
      "Le nombre total de reviews est: 400146\n",
      "Le nombre total de produits est: 75036\n",
      "Le nombre total de reviewers est: 283374\n",
      "Soit un nombre moyen de 5.3 reviews par produit\n",
      "Soit un nombre moyen de 1.4 reviews par reviewers\n"
     ]
    }
   ],
   "source": [
    "Nbreviews=len(df_train)\n",
    "Nbproducts=len(set(df_train[\"asin\"]))\n",
    "Nbreviewers=len(set(df_train[\"reviewerID\"]))\n",
    "print(\"Le nombre total de reviews est: \"+str(Nbreviews))\n",
    "print(\"Le nombre total de produits est: \"+str(Nbproducts))\n",
    "print(\"Le nombre total de reviewers est: \"+str(Nbreviewers))\n",
    "print(\"Soit un nombre moyen de \"+str(round(Nbreviews/Nbproducts,1))+ \" reviews par produit\")\n",
    "print(\"Soit un nombre moyen de \"+str(round(Nbreviews/Nbreviewers,1))+ \" reviews par reviewers\")"
   ]
  },
  {
   "cell_type": "markdown",
   "metadata": {},
   "source": [
    "Analysons la distribution des notes des reviews"
   ]
  },
  {
   "cell_type": "code",
   "execution_count": 9,
   "metadata": {
    "collapsed": false
   },
   "outputs": [
    {
     "name": "stdout",
     "output_type": "stream",
     "text": [
      "count    400146.00\n",
      "mean          4.24\n",
      "std           1.20\n",
      "min           1.00\n",
      "25%           4.00\n",
      "50%           5.00\n",
      "75%           5.00\n",
      "max           5.00\n",
      "Name: overall, dtype: float64\n"
     ]
    },
    {
     "data": {
      "image/png": "[encoded data removed]",
      "text/plain": [
       "<matplotlib.figure.Figure at 0x155a674a8>"
      ]
     },
     "metadata": {},
     "output_type": "display_data"
    }
   ],
   "source": [
    "print(df_train[\"overall\"].describe().round(2))\n",
    "%matplotlib inline \n",
    "a=[int(i) for i in df_train[\"overall\"]]\n",
    "bins=range(1,7)\n",
    "fig, ax = plt.subplots(1,1)\n",
    "ax.hist(a, bins=bins, align='left', color=\"grey\", rwidth=0.7)\n",
    "ax.set_xticks(bins[:-1])\n",
    "plt.title(\"Histogramme des notes des reviews\");\n",
    "plt.xlabel(\"Note\");\n",
    "plt.ylabel(\"Nombre de reviews\");"
   ]
  },
  {
   "cell_type": "markdown",
   "metadata": {},
   "source": [
    "Regardons la distribution des notes moyennes par produit. On constate que la distribution est moins \"skewed\" que précedemment."
   ]
  },
  {
   "cell_type": "code",
   "execution_count": 10,
   "metadata": {
    "collapsed": false
   },
   "outputs": [
    {
     "name": "stdout",
     "output_type": "stream",
     "text": [
      "count    75036.00\n",
      "mean         4.23\n",
      "std          1.00\n",
      "min          1.00\n",
      "25%          4.00\n",
      "50%          4.57\n",
      "75%          5.00\n",
      "max          5.00\n",
      "Name: overall, dtype: float64\n"
     ]
    },
    {
     "data": {
      "image/png": "[encoded data removed]",
      "text/plain": [
       "<matplotlib.figure.Figure at 0x14ea32f98>"
      ]
     },
     "metadata": {},
     "output_type": "display_data"
    }
   ],
   "source": [
    "average_note_byproduct=df_train[[\"asin\",\"overall\"]].groupby(\"asin\", as_index=False).mean()\n",
    "print(average_note_byproduct[\"overall\"].describe().round(2))\n",
    "%matplotlib inline \n",
    "bins=range(1,7)\n",
    "fig, ax = plt.subplots(1,1)\n",
    "ax.hist(average_note_byproduct[\"overall\"], bins=bins, align='left', color=\"grey\", rwidth=0.7)\n",
    "ax.set_xticks(bins[:-1])\n",
    "plt.title(\"Histogramme des notes moyennes par produit\");\n",
    "plt.xlabel(\"Note\");\n",
    "plt.ylabel(\"Nombre de produits\");"
   ]
  },
  {
   "cell_type": "markdown",
   "metadata": {},
   "source": [
    "Regardons la distribution du nombre de reviews par utilisateur."
   ]
  },
  {
   "cell_type": "code",
   "execution_count": 11,
   "metadata": {
    "collapsed": false
   },
   "outputs": [
    {
     "name": "stdout",
     "output_type": "stream",
     "text": [
      "count    283374.00\n",
      "mean          1.41\n",
      "std           2.05\n",
      "min           1.00\n",
      "25%           1.00\n",
      "50%           1.00\n",
      "75%           1.00\n",
      "max         389.00\n",
      "dtype: float64\n"
     ]
    },
    {
     "data": {
      "image/png": "[encoded data removed]",
      "text/plain": [
       "<matplotlib.figure.Figure at 0x14f02bbe0>"
      ]
     },
     "metadata": {},
     "output_type": "display_data"
    }
   ],
   "source": [
    "import collections\n",
    "Nbreview_by_user=collections.Counter(df_train[\"reviewerID\"])\n",
    "print(pd.Series(Nbreview_by_user).describe().round(2))\n",
    "bins=range(1,10,1)\n",
    "a = np.clip(list(Nbreview_by_user.values()), 1, 10)\n",
    "fig, ax = plt.subplots(1,1)\n",
    "ax.hist(a, bins=bins, align='left', color=\"grey\", rwidth=0.7)\n",
    "plt.title(\"Histogramme du nombre de reviews par utilisateur\");\n",
    "plt.xlabel(\"Nombre de reviews\");\n",
    "plt.ylabel(\"Nombre d'utilisateurs\");"
   ]
  },
  {
   "cell_type": "markdown",
   "metadata": {},
   "source": [
    "Définissons la fonction de comptage du nombre de mots d'une review et appliquons la à nos données"
   ]
  },
  {
   "cell_type": "code",
   "execution_count": 12,
   "metadata": {
    "collapsed": true
   },
   "outputs": [],
   "source": [
    "def countWords(review):\n",
    "    return(len(review.split()))"
   ]
  },
  {
   "cell_type": "code",
   "execution_count": 13,
   "metadata": {
    "collapsed": false
   },
   "outputs": [],
   "source": [
    "df_train[\"countWordsReview\"] = df_train[\"reviewText\"].apply(countWords)\n",
    "df_test[\"countWordsReview\"] = df_test[\"reviewText\"].apply(countWords)\n",
    "df_train[\"countWordsSummary\"] = df_train[\"summary\"].apply(countWords)\n",
    "df_test[\"countWordsSummary\"] = df_test[\"summary\"].apply(countWords)"
   ]
  },
  {
   "cell_type": "markdown",
   "metadata": {},
   "source": [
    "Regardons la distribution du nombre de mots des reviews"
   ]
  },
  {
   "cell_type": "code",
   "execution_count": 14,
   "metadata": {
    "collapsed": false
   },
   "outputs": [
    {
     "name": "stdout",
     "output_type": "stream",
     "text": [
      "count    400146.00\n",
      "mean         87.80\n",
      "std         118.56\n",
      "min           0.00\n",
      "25%          28.00\n",
      "50%          49.00\n",
      "75%          99.00\n",
      "max        5291.00\n",
      "Name: countWordsReview, dtype: float64\n"
     ]
    }
   ],
   "source": [
    "print(df_train[\"countWordsReview\"].describe().round(2))"
   ]
  },
  {
   "cell_type": "code",
   "execution_count": 15,
   "metadata": {
    "collapsed": false
   },
   "outputs": [
    {
     "ename": "KeyError",
     "evalue": "0",
     "output_type": "error",
     "traceback": [
      "\u001b[0;31m---------------------------------------------------------------------------\u001b[0m",
      "\u001b[0;31mKeyError\u001b[0m                                  Traceback (most recent call last)",
      "\u001b[0;32m<ipython-input-15-2409f884e867>\u001b[0m in \u001b[0;36m<module>\u001b[0;34m()\u001b[0m\n\u001b[1;32m      3\u001b[0m \u001b[0ma\u001b[0m \u001b[0;34m=\u001b[0m \u001b[0mnp\u001b[0m\u001b[0;34m.\u001b[0m\u001b[0mclip\u001b[0m\u001b[0;34m(\u001b[0m\u001b[0mdf_train\u001b[0m\u001b[0;34m[\u001b[0m\u001b[0;34m\"countWordsReview\"\u001b[0m\u001b[0;34m]\u001b[0m\u001b[0;34m,\u001b[0m \u001b[0;36m0\u001b[0m\u001b[0;34m,\u001b[0m \u001b[0;36m400\u001b[0m\u001b[0;34m)\u001b[0m\u001b[0;34m\u001b[0m\u001b[0m\n\u001b[1;32m      4\u001b[0m \u001b[0mfig\u001b[0m\u001b[0;34m,\u001b[0m \u001b[0max\u001b[0m \u001b[0;34m=\u001b[0m \u001b[0mplt\u001b[0m\u001b[0;34m.\u001b[0m\u001b[0msubplots\u001b[0m\u001b[0;34m(\u001b[0m\u001b[0;36m1\u001b[0m\u001b[0;34m,\u001b[0m\u001b[0;36m1\u001b[0m\u001b[0;34m)\u001b[0m\u001b[0;34m\u001b[0m\u001b[0m\n\u001b[0;32m----> 5\u001b[0;31m \u001b[0max\u001b[0m\u001b[0;34m.\u001b[0m\u001b[0mhist\u001b[0m\u001b[0;34m(\u001b[0m\u001b[0ma\u001b[0m\u001b[0;34m,\u001b[0m \u001b[0mbins\u001b[0m\u001b[0;34m=\u001b[0m\u001b[0mbins\u001b[0m\u001b[0;34m,\u001b[0m \u001b[0malign\u001b[0m\u001b[0;34m=\u001b[0m\u001b[0;34m'left'\u001b[0m\u001b[0;34m,\u001b[0m \u001b[0mcolor\u001b[0m\u001b[0;34m=\u001b[0m\u001b[0;34m\"grey\"\u001b[0m\u001b[0;34m,\u001b[0m \u001b[0mrwidth\u001b[0m\u001b[0;34m=\u001b[0m\u001b[0;36m0.7\u001b[0m\u001b[0;34m)\u001b[0m\u001b[0;34m\u001b[0m\u001b[0m\n\u001b[0m\u001b[1;32m      6\u001b[0m \u001b[0mplt\u001b[0m\u001b[0;34m.\u001b[0m\u001b[0mtitle\u001b[0m\u001b[0;34m(\u001b[0m\u001b[0;34m\"Histogramme du nombre de mots par review\"\u001b[0m\u001b[0;34m)\u001b[0m\u001b[0;34m;\u001b[0m\u001b[0;34m\u001b[0m\u001b[0m\n\u001b[1;32m      7\u001b[0m \u001b[0mplt\u001b[0m\u001b[0;34m.\u001b[0m\u001b[0mxlabel\u001b[0m\u001b[0;34m(\u001b[0m\u001b[0;34m\"Nombre de mots\"\u001b[0m\u001b[0;34m)\u001b[0m\u001b[0;34m;\u001b[0m\u001b[0;34m\u001b[0m\u001b[0m\n",
      "\u001b[0;32m/Users/thibaut/anaconda/lib/python3.4/site-packages/matplotlib/axes/_axes.py\u001b[0m in \u001b[0;36mhist\u001b[0;34m(self, x, bins, range, normed, weights, cumulative, bottom, histtype, align, orientation, rwidth, log, color, label, stacked, **kwargs)\u001b[0m\n\u001b[1;32m   5602\u001b[0m         \u001b[0;31m# Massage 'x' for processing.\u001b[0m\u001b[0;34m\u001b[0m\u001b[0;34m\u001b[0m\u001b[0m\n\u001b[1;32m   5603\u001b[0m         \u001b[0;31m# NOTE: Be sure any changes here is also done below to 'weights'\u001b[0m\u001b[0;34m\u001b[0m\u001b[0;34m\u001b[0m\u001b[0m\n\u001b[0;32m-> 5604\u001b[0;31m         \u001b[0;32mif\u001b[0m \u001b[0misinstance\u001b[0m\u001b[0;34m(\u001b[0m\u001b[0mx\u001b[0m\u001b[0;34m,\u001b[0m \u001b[0mnp\u001b[0m\u001b[0;34m.\u001b[0m\u001b[0mndarray\u001b[0m\u001b[0;34m)\u001b[0m \u001b[0;32mor\u001b[0m \u001b[0;32mnot\u001b[0m \u001b[0miterable\u001b[0m\u001b[0;34m(\u001b[0m\u001b[0mx\u001b[0m\u001b[0;34m[\u001b[0m\u001b[0;36m0\u001b[0m\u001b[0;34m]\u001b[0m\u001b[0;34m)\u001b[0m\u001b[0;34m:\u001b[0m\u001b[0;34m\u001b[0m\u001b[0m\n\u001b[0m\u001b[1;32m   5605\u001b[0m             \u001b[0;31m# TODO: support masked arrays;\u001b[0m\u001b[0;34m\u001b[0m\u001b[0;34m\u001b[0m\u001b[0m\n\u001b[1;32m   5606\u001b[0m             \u001b[0mx\u001b[0m \u001b[0;34m=\u001b[0m \u001b[0mnp\u001b[0m\u001b[0;34m.\u001b[0m\u001b[0masarray\u001b[0m\u001b[0;34m(\u001b[0m\u001b[0mx\u001b[0m\u001b[0;34m)\u001b[0m\u001b[0;34m\u001b[0m\u001b[0m\n",
      "\u001b[0;32m/Users/thibaut/anaconda/lib/python3.4/site-packages/pandas/core/series.py\u001b[0m in \u001b[0;36m__getitem__\u001b[0;34m(self, key)\u001b[0m\n\u001b[1;32m    549\u001b[0m     \u001b[0;32mdef\u001b[0m \u001b[0m__getitem__\u001b[0m\u001b[0;34m(\u001b[0m\u001b[0mself\u001b[0m\u001b[0;34m,\u001b[0m \u001b[0mkey\u001b[0m\u001b[0;34m)\u001b[0m\u001b[0;34m:\u001b[0m\u001b[0;34m\u001b[0m\u001b[0m\n\u001b[1;32m    550\u001b[0m         \u001b[0;32mtry\u001b[0m\u001b[0;34m:\u001b[0m\u001b[0;34m\u001b[0m\u001b[0m\n\u001b[0;32m--> 551\u001b[0;31m             \u001b[0mresult\u001b[0m \u001b[0;34m=\u001b[0m \u001b[0mself\u001b[0m\u001b[0;34m.\u001b[0m\u001b[0mindex\u001b[0m\u001b[0;34m.\u001b[0m\u001b[0mget_value\u001b[0m\u001b[0;34m(\u001b[0m\u001b[0mself\u001b[0m\u001b[0;34m,\u001b[0m \u001b[0mkey\u001b[0m\u001b[0;34m)\u001b[0m\u001b[0;34m\u001b[0m\u001b[0m\n\u001b[0m\u001b[1;32m    552\u001b[0m \u001b[0;34m\u001b[0m\u001b[0m\n\u001b[1;32m    553\u001b[0m             \u001b[0;32mif\u001b[0m \u001b[0;32mnot\u001b[0m \u001b[0mnp\u001b[0m\u001b[0;34m.\u001b[0m\u001b[0misscalar\u001b[0m\u001b[0;34m(\u001b[0m\u001b[0mresult\u001b[0m\u001b[0;34m)\u001b[0m\u001b[0;34m:\u001b[0m\u001b[0;34m\u001b[0m\u001b[0m\n",
      "\u001b[0;32m/Users/thibaut/anaconda/lib/python3.4/site-packages/pandas/core/index.py\u001b[0m in \u001b[0;36mget_value\u001b[0;34m(self, series, key)\u001b[0m\n\u001b[1;32m   1721\u001b[0m \u001b[0;34m\u001b[0m\u001b[0m\n\u001b[1;32m   1722\u001b[0m         \u001b[0;32mtry\u001b[0m\u001b[0;34m:\u001b[0m\u001b[0;34m\u001b[0m\u001b[0m\n\u001b[0;32m-> 1723\u001b[0;31m             \u001b[0;32mreturn\u001b[0m \u001b[0mself\u001b[0m\u001b[0;34m.\u001b[0m\u001b[0m_engine\u001b[0m\u001b[0;34m.\u001b[0m\u001b[0mget_value\u001b[0m\u001b[0;34m(\u001b[0m\u001b[0ms\u001b[0m\u001b[0;34m,\u001b[0m \u001b[0mk\u001b[0m\u001b[0;34m)\u001b[0m\u001b[0;34m\u001b[0m\u001b[0m\n\u001b[0m\u001b[1;32m   1724\u001b[0m         \u001b[0;32mexcept\u001b[0m \u001b[0mKeyError\u001b[0m \u001b[0;32mas\u001b[0m \u001b[0me1\u001b[0m\u001b[0;34m:\u001b[0m\u001b[0;34m\u001b[0m\u001b[0m\n\u001b[1;32m   1725\u001b[0m             \u001b[0;32mif\u001b[0m \u001b[0mlen\u001b[0m\u001b[0;34m(\u001b[0m\u001b[0mself\u001b[0m\u001b[0;34m)\u001b[0m \u001b[0;34m>\u001b[0m \u001b[0;36m0\u001b[0m \u001b[0;32mand\u001b[0m \u001b[0mself\u001b[0m\u001b[0;34m.\u001b[0m\u001b[0minferred_type\u001b[0m \u001b[0;32min\u001b[0m \u001b[0;34m[\u001b[0m\u001b[0;34m'integer'\u001b[0m\u001b[0;34m,\u001b[0m\u001b[0;34m'boolean'\u001b[0m\u001b[0;34m]\u001b[0m\u001b[0;34m:\u001b[0m\u001b[0;34m\u001b[0m\u001b[0m\n",
      "\u001b[0;32mpandas/index.pyx\u001b[0m in \u001b[0;36mpandas.index.IndexEngine.get_value (pandas/index.c:3204)\u001b[0;34m()\u001b[0m\n",
      "\u001b[0;32mpandas/index.pyx\u001b[0m in \u001b[0;36mpandas.index.IndexEngine.get_value (pandas/index.c:2903)\u001b[0;34m()\u001b[0m\n",
      "\u001b[0;32mpandas/index.pyx\u001b[0m in \u001b[0;36mpandas.index.IndexEngine.get_loc (pandas/index.c:3843)\u001b[0;34m()\u001b[0m\n",
      "\u001b[0;32mpandas/hashtable.pyx\u001b[0m in \u001b[0;36mpandas.hashtable.Int64HashTable.get_item (pandas/hashtable.c:6525)\u001b[0;34m()\u001b[0m\n",
      "\u001b[0;32mpandas/hashtable.pyx\u001b[0m in \u001b[0;36mpandas.hashtable.Int64HashTable.get_item (pandas/hashtable.c:6463)\u001b[0;34m()\u001b[0m\n",
      "\u001b[0;31mKeyError\u001b[0m: 0"
     ]
    },
    {
     "data": {
      "image/png": "[encoded data removed]",
      "text/plain": [
       "<matplotlib.figure.Figure at 0x14f02be10>"
      ]
     },
     "metadata": {},
     "output_type": "display_data"
    }
   ],
   "source": [
    "%matplotlib inline \n",
    "bins=range(0,430,30)\n",
    "a = np.clip(df_train[\"countWordsReview\"], 0, 400)\n",
    "fig, ax = plt.subplots(1,1)\n",
    "ax.hist(a, bins=bins, align='left', color=\"grey\", rwidth=0.7)\n",
    "plt.title(\"Histogramme du nombre de mots par review\");\n",
    "plt.xlabel(\"Nombre de mots\");\n",
    "plt.ylabel(\"Nombre de reviews\");"
   ]
  },
  {
   "cell_type": "markdown",
   "metadata": {},
   "source": [
    "Maintenant regardons plus spécifiquement entre 0 et 100 mots"
   ]
  },
  {
   "cell_type": "code",
   "execution_count": 84,
   "metadata": {
    "collapsed": false
   },
   "outputs": [
    {
     "data": {
      "image/png": "[encoded data removed]",
      "text/plain": [
       "<matplotlib.figure.Figure at 0x15b7bbf60>"
      ]
     },
     "metadata": {},
     "output_type": "display_data"
    }
   ],
   "source": [
    "a = [s for s in df_train[\"countWordsReview\"] if s < 101]\n",
    "%matplotlib inline \n",
    "bins=range(0,100,5)\n",
    "fig, ax = plt.subplots(1,1)\n",
    "ax.hist(a, bins=bins, align='left', color=\"grey\", rwidth=0.7)\n",
    "plt.title(\"Histogramme du nombre de mots par review\");\n",
    "plt.xlabel(\"Nombre de mots\");\n",
    "plt.ylabel(\"Nombre de reviews\");"
   ]
  },
  {
   "cell_type": "markdown",
   "metadata": {},
   "source": [
    "## Préparation des données"
   ]
  },
  {
   "cell_type": "markdown",
   "metadata": {},
   "source": [
    "On prépare les données de texte en utilisant la fonction `TfidfVectorizer` du package `sklearn`. Notons que nous utilisons les stopwords donnés par `nltk` pour réduire le nombre de mots."
   ]
  },
  {
   "cell_type": "code",
   "execution_count": 202,
   "metadata": {
    "collapsed": true
   },
   "outputs": [],
   "source": [
    "from sklearn.feature_extraction.text import TfidfVectorizer\n",
    "from nltk.corpus import stopwords\n",
    "tfidf_vect = TfidfVectorizer()\n",
    "tfidf_vect_stopword = TfidfVectorizer(stop_words= stopwords.words('english'))"
   ]
  },
  {
   "cell_type": "markdown",
   "metadata": {},
   "source": [
    "### 1. Texte complet de la review"
   ]
  },
  {
   "cell_type": "markdown",
   "metadata": {},
   "source": [
    "#### a. Echantillon Train"
   ]
  },
  {
   "cell_type": "code",
   "execution_count": 203,
   "metadata": {
    "collapsed": false
   },
   "outputs": [
    {
     "data": {
      "text/plain": [
       "(400146, 219285)"
      ]
     },
     "execution_count": 203,
     "metadata": {},
     "output_type": "execute_result"
    }
   ],
   "source": [
    "corpus_train_reviewText=list(df_train[\"reviewText\"])\n",
    "X_train_tfidf_reviewText = tfidf_vect_stopword.fit_transform(corpus_train_reviewText)\n",
    "X_train_tfidf_reviewText.shape"
   ]
  },
  {
   "cell_type": "markdown",
   "metadata": {},
   "source": [
    "#### b. Echantillon Test"
   ]
  },
  {
   "cell_type": "code",
   "execution_count": 204,
   "metadata": {
    "collapsed": false
   },
   "outputs": [
    {
     "data": {
      "text/plain": [
       "(100037, 219285)"
      ]
     },
     "execution_count": 204,
     "metadata": {},
     "output_type": "execute_result"
    }
   ],
   "source": [
    "corpus_test_reviewText=list(df_test[\"reviewText\"])\n",
    "X_test_tfidf_reviewText = tfidf_vect_stopword.transform(corpus_test_reviewText)\n",
    "X_test_tfidf_reviewText.shape"
   ]
  },
  {
   "cell_type": "markdown",
   "metadata": {},
   "source": [
    "### 2. Texte du résumé de la review"
   ]
  },
  {
   "cell_type": "markdown",
   "metadata": {},
   "source": [
    "#### a. Echantillon Train"
   ]
  },
  {
   "cell_type": "code",
   "execution_count": 205,
   "metadata": {
    "collapsed": false
   },
   "outputs": [
    {
     "data": {
      "text/plain": [
       "(400146, 42029)"
      ]
     },
     "execution_count": 205,
     "metadata": {},
     "output_type": "execute_result"
    }
   ],
   "source": [
    "corpus_train_summary=list(df_train[\"summary\"])\n",
    "X_train_tfidf_summary = tfidf_vect_stopword.fit_transform(corpus_train_summary)\n",
    "X_train_tfidf_summary.shape"
   ]
  },
  {
   "cell_type": "markdown",
   "metadata": {},
   "source": [
    "#### b. Echantillon Test"
   ]
  },
  {
   "cell_type": "code",
   "execution_count": 206,
   "metadata": {
    "collapsed": false
   },
   "outputs": [
    {
     "data": {
      "text/plain": [
       "(100037, 42029)"
      ]
     },
     "execution_count": 206,
     "metadata": {},
     "output_type": "execute_result"
    }
   ],
   "source": [
    "corpus_test_summary=list(df_test[\"summary\"])\n",
    "X_test_tfidf_summary = tfidf_vect_stopword.transform(corpus_test_summary)\n",
    "X_test_tfidf_summary.shape"
   ]
  },
  {
   "cell_type": "markdown",
   "metadata": {},
   "source": [
    "### 3. Features supplémentaires"
   ]
  },
  {
   "cell_type": "markdown",
   "metadata": {},
   "source": [
    "Nous allons créer des variables pour le mois et le jour de la review, ce qui peut influencer la note."
   ]
  },
  {
   "cell_type": "code",
   "execution_count": 207,
   "metadata": {
    "collapsed": false
   },
   "outputs": [
    {
     "data": {
      "text/plain": [
       "104407    Wed\n",
       "441365    Wed\n",
       "397753    Mon\n",
       "459007    Thu\n",
       "126387    Tue\n",
       "Name: Weekday, dtype: category\n",
       "Categories (7, object): [Fri, Mon, Sat, Sun, Thu, Tue, Wed]"
      ]
     },
     "execution_count": 207,
     "metadata": {},
     "output_type": "execute_result"
    }
   ],
   "source": [
    "from datetime import datetime\n",
    "df_train[\"Weekday\"] = df_train[\"unixReviewTime\"].apply(lambda x: datetime.strftime(datetime.fromtimestamp(x),'%a')).astype('category')\n",
    "df_test[\"Weekday\"] = df_test[\"unixReviewTime\"].apply(lambda x: datetime.strftime(datetime.fromtimestamp(x),'%a')).astype('category')\n",
    "df_train[\"Weekday\"].head()"
   ]
  },
  {
   "cell_type": "code",
   "execution_count": 208,
   "metadata": {
    "collapsed": false
   },
   "outputs": [
    {
     "data": {
      "text/plain": [
       "104407    10\n",
       "441365    05\n",
       "397753    04\n",
       "459007    07\n",
       "126387    11\n",
       "Name: Month, dtype: category\n",
       "Categories (12, object): [01, 02, 03, 04, ..., 09, 10, 11, 12]"
      ]
     },
     "execution_count": 208,
     "metadata": {},
     "output_type": "execute_result"
    }
   ],
   "source": [
    "df_train[\"Month\"] = df_train[\"unixReviewTime\"].apply(lambda x: datetime.strftime(datetime.fromtimestamp(x),'%m')).astype('category')\n",
    "df_test[\"Month\"] = df_test[\"unixReviewTime\"].apply(lambda x: datetime.strftime(datetime.fromtimestamp(x),'%m')).astype('category')\n",
    "df_train[\"Month\"].head()"
   ]
  },
  {
   "cell_type": "code",
   "execution_count": 209,
   "metadata": {
    "collapsed": true
   },
   "outputs": [],
   "source": [
    "from sklearn.feature_extraction import DictVectorizer\n",
    "dic_vec = DictVectorizer()"
   ]
  },
  {
   "cell_type": "markdown",
   "metadata": {},
   "source": [
    "#### a. Echantillon Train"
   ]
  },
  {
   "cell_type": "code",
   "execution_count": 210,
   "metadata": {
    "collapsed": false
   },
   "outputs": [
    {
     "name": "stdout",
     "output_type": "stream",
     "text": [
      "(400146, 2)\n"
     ]
    }
   ],
   "source": [
    "from sklearn.preprocessing import normalize\n",
    "X_train_countWords=normalize(df_train[[\"countWordsReview\",\"countWordsSummary\"]].astype(float),axis=0)\n",
    "print(X_train_countWords.shape)"
   ]
  },
  {
   "cell_type": "code",
   "execution_count": 211,
   "metadata": {
    "collapsed": false
   },
   "outputs": [
    {
     "data": {
      "text/plain": [
       "(400146, 7)"
      ]
     },
     "execution_count": 211,
     "metadata": {},
     "output_type": "execute_result"
    }
   ],
   "source": [
    "dic_train_weekdays = pd.DataFrame(df_train[\"Weekday\"]).to_dict('records')\n",
    "X_train_weekdays = dic_vec.fit_transform(dic_train_weekdays)\n",
    "X_train_weekdays.shape"
   ]
  },
  {
   "cell_type": "code",
   "execution_count": 212,
   "metadata": {
    "collapsed": false
   },
   "outputs": [
    {
     "data": {
      "text/plain": [
       "(400146, 12)"
      ]
     },
     "execution_count": 212,
     "metadata": {},
     "output_type": "execute_result"
    }
   ],
   "source": [
    "dic_train_months = pd.DataFrame(df_train[\"Month\"]).to_dict('records')\n",
    "X_train_months = dic_vec.fit_transform(dic_train_months)\n",
    "X_train_months.shape"
   ]
  },
  {
   "cell_type": "markdown",
   "metadata": {},
   "source": [
    "#### b. Echantillon Test"
   ]
  },
  {
   "cell_type": "code",
   "execution_count": 213,
   "metadata": {
    "collapsed": false
   },
   "outputs": [
    {
     "name": "stdout",
     "output_type": "stream",
     "text": [
      "(100037, 2)\n"
     ]
    }
   ],
   "source": [
    "from sklearn.preprocessing import normalize\n",
    "X_test_countWords=normalize(df_test[[\"countWordsReview\",\"countWordsSummary\"]].astype(float),axis=0)\n",
    "print(X_test_countWords.shape)"
   ]
  },
  {
   "cell_type": "code",
   "execution_count": 214,
   "metadata": {
    "collapsed": false
   },
   "outputs": [
    {
     "data": {
      "text/plain": [
       "(100037, 7)"
      ]
     },
     "execution_count": 214,
     "metadata": {},
     "output_type": "execute_result"
    }
   ],
   "source": [
    "dic_test_weekdays = pd.DataFrame(df_test[\"Weekday\"]).to_dict('records')\n",
    "X_test_weekdays = dic_vec.fit_transform(dic_test_weekdays)\n",
    "X_test_weekdays.shape"
   ]
  },
  {
   "cell_type": "code",
   "execution_count": 215,
   "metadata": {
    "collapsed": false
   },
   "outputs": [
    {
     "data": {
      "text/plain": [
       "(100037, 12)"
      ]
     },
     "execution_count": 215,
     "metadata": {},
     "output_type": "execute_result"
    }
   ],
   "source": [
    "dic_test_months = pd.DataFrame(df_test[\"Month\"]).to_dict('records')\n",
    "X_test_months = dic_vec.fit_transform(dic_test_months)\n",
    "X_test_months.shape"
   ]
  },
  {
   "cell_type": "markdown",
   "metadata": {},
   "source": [
    "### 4. Combinaison de toutes les features"
   ]
  },
  {
   "cell_type": "markdown",
   "metadata": {},
   "source": [
    "#### a. Echantillon Train"
   ]
  },
  {
   "cell_type": "code",
   "execution_count": 216,
   "metadata": {
    "collapsed": false
   },
   "outputs": [
    {
     "name": "stdout",
     "output_type": "stream",
     "text": [
      "(400146, 261314)\n"
     ]
    }
   ],
   "source": [
    "from scipy.sparse import hstack\n",
    "X_train_alltext=hstack([X_train_tfidf_reviewText, X_train_tfidf_summary])\n",
    "print(X_train_alltext.shape)"
   ]
  },
  {
   "cell_type": "code",
   "execution_count": 217,
   "metadata": {
    "collapsed": false
   },
   "outputs": [
    {
     "data": {
      "text/plain": [
       "(400146, 261316)"
      ]
     },
     "execution_count": 217,
     "metadata": {},
     "output_type": "execute_result"
    }
   ],
   "source": [
    "X_train_textwordcount=hstack([X_train_alltext,X_train_countWords])\n",
    "X_train_textwordcount.shape"
   ]
  },
  {
   "cell_type": "code",
   "execution_count": 218,
   "metadata": {
    "collapsed": false
   },
   "outputs": [
    {
     "name": "stdout",
     "output_type": "stream",
     "text": [
      "(400146, 261335)\n"
     ]
    }
   ],
   "source": [
    "X_train_allfeatures = hstack([X_train_textwordcount, X_train_weekdays, X_train_months])\n",
    "print(X_train_allfeatures.shape)"
   ]
  },
  {
   "cell_type": "code",
   "execution_count": 219,
   "metadata": {
    "collapsed": false
   },
   "outputs": [
    {
     "name": "stdout",
     "output_type": "stream",
     "text": [
      "(400146, 21)\n"
     ]
    }
   ],
   "source": [
    "X_train_supfeatures = hstack([X_train_countWords, X_train_weekdays, X_train_months])\n",
    "print(X_train_supfeatures.shape)"
   ]
  },
  {
   "cell_type": "markdown",
   "metadata": {},
   "source": [
    "#### b. Echantillon Test"
   ]
  },
  {
   "cell_type": "code",
   "execution_count": 220,
   "metadata": {
    "collapsed": false
   },
   "outputs": [
    {
     "name": "stdout",
     "output_type": "stream",
     "text": [
      "(100037, 261314)\n"
     ]
    }
   ],
   "source": [
    "X_test_alltext=hstack([X_test_tfidf_reviewText, X_test_tfidf_summary])\n",
    "print(X_test_alltext.shape)"
   ]
  },
  {
   "cell_type": "code",
   "execution_count": 221,
   "metadata": {
    "collapsed": false
   },
   "outputs": [
    {
     "data": {
      "text/plain": [
       "(100037, 261316)"
      ]
     },
     "execution_count": 221,
     "metadata": {},
     "output_type": "execute_result"
    }
   ],
   "source": [
    "X_test_textwordcount=hstack([X_test_alltext,X_test_countWords])\n",
    "X_test_textwordcount.shape"
   ]
  },
  {
   "cell_type": "code",
   "execution_count": 222,
   "metadata": {
    "collapsed": false
   },
   "outputs": [
    {
     "name": "stdout",
     "output_type": "stream",
     "text": [
      "(100037, 261335)\n"
     ]
    }
   ],
   "source": [
    "X_test_allfeatures = hstack([X_test_textwordcount, X_test_weekdays, X_test_months])\n",
    "print(X_test_allfeatures.shape)"
   ]
  },
  {
   "cell_type": "code",
   "execution_count": 223,
   "metadata": {
    "collapsed": false
   },
   "outputs": [
    {
     "name": "stdout",
     "output_type": "stream",
     "text": [
      "(100037, 21)\n"
     ]
    }
   ],
   "source": [
    "X_test_supfeatures = hstack([X_test_countWords, X_test_weekdays, X_test_months])\n",
    "print(X_test_supfeatures.shape)"
   ]
  },
  {
   "cell_type": "markdown",
   "metadata": {},
   "source": [
    "## Machine Learning"
   ]
  },
  {
   "cell_type": "markdown",
   "metadata": {},
   "source": [
    "En utilisant la librairie `sklearn`, nous allons appliquer les modèles suivants:\n",
    "- Naive Bayes avec modèle multinomial, \n",
    "- Support Vector Machines avec Stochastic Gradient Descent et fonction de perte logistique, \n",
    "- k-Nearest Neighbors. \n",
    "\n",
    "Nous avons essayé des Random Forests mais les calculs n'ont jamais pu aboutir, compte tenu du grand nombre de dimensions. Nous avons choisi un modèle Multinomial pour le Naive Bayes car il est bien adapté aux données (matrice sparse de grande dimension). Un modèle Naive Bayes gaussian n'est pas compatible avec les matrices sparses, et un modèle Naive Bayes Bernoulli ne peut prendre que des variables booléennes en entrée. Quant au choix de la fonction de perte logistique pour le modèle Support Vector Machines, c'est la seule fonction qui permet de calculer des probabilités sur les valeurs prédites et donc de déterminer le critère AUC."
   ]
  },
  {
   "cell_type": "markdown",
   "metadata": {},
   "source": [
    "### 1. Texte complet de la review"
   ]
  },
  {
   "cell_type": "code",
   "execution_count": 224,
   "metadata": {
    "collapsed": false
   },
   "outputs": [],
   "source": [
    "from sklearn.naive_bayes import MultinomialNB\n",
    "clf = MultinomialNB().fit(X_train_tfidf_reviewText, y_train.astype('category'))\n",
    "predicted_NaiveBayes_reviewText = clf.predict(X_test_tfidf_reviewText)"
   ]
  },
  {
   "cell_type": "code",
   "execution_count": 225,
   "metadata": {
    "collapsed": false
   },
   "outputs": [],
   "source": [
    "from sklearn.linear_model import SGDClassifier\n",
    "SGDclass = SGDClassifier(loss='log', penalty='l2', alpha=1e-3, n_iter=5, random_state=42)\n",
    "clf2 = SGDclass.fit(X_train_tfidf_reviewText, y_train.astype('category'))\n",
    "predicted_SVM_reviewText = clf2.predict(X_test_tfidf_reviewText)"
   ]
  },
  {
   "cell_type": "markdown",
   "metadata": {},
   "source": [
    "### 2. Texte du résumé de la review"
   ]
  },
  {
   "cell_type": "code",
   "execution_count": 226,
   "metadata": {
    "collapsed": true
   },
   "outputs": [],
   "source": [
    "from sklearn.naive_bayes import MultinomialNB\n",
    "clf = MultinomialNB().fit(X_train_tfidf_summary, y_train.astype('category'))\n",
    "predicted_NaiveBayes_summary = clf.predict(X_test_tfidf_summary)"
   ]
  },
  {
   "cell_type": "code",
   "execution_count": 227,
   "metadata": {
    "collapsed": false
   },
   "outputs": [],
   "source": [
    "from sklearn.linear_model import SGDClassifier\n",
    "clf2 = SGDclass.fit(X_train_tfidf_summary, y_train.astype('category'))\n",
    "predicted_SVM_summary = clf2.predict(X_test_tfidf_summary)"
   ]
  },
  {
   "cell_type": "markdown",
   "metadata": {},
   "source": [
    "### 3. Texte complet et résumé de la review"
   ]
  },
  {
   "cell_type": "code",
   "execution_count": 228,
   "metadata": {
    "collapsed": false
   },
   "outputs": [],
   "source": [
    "from sklearn.naive_bayes import MultinomialNB\n",
    "clf = MultinomialNB().fit(X_train_alltext, y_train.astype('category'))\n",
    "predicted_NaiveBayes_alltext = clf.predict(X_test_alltext)"
   ]
  },
  {
   "cell_type": "code",
   "execution_count": 229,
   "metadata": {
    "collapsed": false
   },
   "outputs": [],
   "source": [
    "from sklearn.linear_model import SGDClassifier\n",
    "clf2 = SGDclass.fit(X_train_alltext, y_train.astype('category'))\n",
    "predicted_SVM_alltext = clf2.predict(X_test_alltext)"
   ]
  },
  {
   "cell_type": "markdown",
   "metadata": {},
   "source": [
    "### 4. Features supplémentaires"
   ]
  },
  {
   "cell_type": "code",
   "execution_count": 230,
   "metadata": {
    "collapsed": true
   },
   "outputs": [],
   "source": [
    "from sklearn.naive_bayes import MultinomialNB\n",
    "clf = MultinomialNB().fit(X_train_supfeatures, y_train.astype('category'))\n",
    "predicted_NaiveBayes_supfeatures = clf.predict(X_test_supfeatures)"
   ]
  },
  {
   "cell_type": "code",
   "execution_count": 231,
   "metadata": {
    "collapsed": true
   },
   "outputs": [],
   "source": [
    "from sklearn.linear_model import SGDClassifier\n",
    "clf2 = SGDclass.fit(X_train_supfeatures, y_train.astype('category'))\n",
    "predicted_SVM_supfeatures = clf2.predict(X_test_supfeatures)"
   ]
  },
  {
   "cell_type": "markdown",
   "metadata": {},
   "source": [
    "### 5. Combinaison de toutes les features"
   ]
  },
  {
   "cell_type": "code",
   "execution_count": 232,
   "metadata": {
    "collapsed": false
   },
   "outputs": [],
   "source": [
    "from sklearn.naive_bayes import MultinomialNB\n",
    "clf = MultinomialNB().fit(X_train_allfeatures, y_train.astype('category'))\n",
    "predicted_NaiveBayes_allfeatures = clf.predict(X_test_allfeatures)"
   ]
  },
  {
   "cell_type": "code",
   "execution_count": 233,
   "metadata": {
    "collapsed": true
   },
   "outputs": [],
   "source": [
    "from sklearn.linear_model import SGDClassifier\n",
    "clf2 = SGDclass.fit(X_train_allfeatures, y_train.astype('category'))\n",
    "predicted_SVM_allfeatures = clf2.predict(X_test_allfeatures)"
   ]
  },
  {
   "cell_type": "markdown",
   "metadata": {},
   "source": [
    "# Evaluation de la performance"
   ]
  },
  {
   "cell_type": "markdown",
   "metadata": {},
   "source": [
    "### 1. Pour le texte complet de la review"
   ]
  },
  {
   "cell_type": "code",
   "execution_count": 234,
   "metadata": {
    "collapsed": false
   },
   "outputs": [
    {
     "name": "stdout",
     "output_type": "stream",
     "text": [
      "L'accuracy du classifieur Naive Bayes est de 62.2%\n",
      "L'accuracy du classifieur SVM est de 62.1%\n"
     ]
    }
   ],
   "source": [
    "print(\"L'accuracy du classifieur Naive Bayes est de \"+str((np.mean(predicted_NaiveBayes_reviewText == y_test)*100).round(1))+\"%\")\n",
    "print(\"L'accuracy du classifieur SVM est de \"+str((np.mean(predicted_SVM_reviewText == y_test)*100).round(1))+\"%\")"
   ]
  },
  {
   "cell_type": "code",
   "execution_count": 235,
   "metadata": {
    "collapsed": false
   },
   "outputs": [
    {
     "name": "stdout",
     "output_type": "stream",
     "text": [
      "Performance par classe du classifieur Naive Bayes \n",
      "              precision    recall  f1-score   support\n",
      "\n",
      "        1.0       0.88      0.01      0.02      7120\n",
      "        2.0       0.00      0.00      0.00      4573\n",
      "        3.0       0.00      0.00      0.00      7646\n",
      "        4.0       0.41      0.00      0.00     18559\n",
      "        5.0       0.62      1.00      0.77     62139\n",
      "\n",
      "avg / total       0.52      0.62      0.48    100037\n",
      "\n",
      "Performance par classe du classifieur SVM \n",
      "              precision    recall  f1-score   support\n",
      "\n",
      "        1.0       0.00      0.00      0.00      7120\n",
      "        2.0       0.00      0.00      0.00      4573\n",
      "        3.0       0.00      0.00      0.00      7646\n",
      "        4.0       0.00      0.00      0.00     18559\n",
      "        5.0       0.62      1.00      0.77     62139\n",
      "\n",
      "avg / total       0.39      0.62      0.48    100037\n",
      "\n"
     ]
    },
    {
     "name": "stderr",
     "output_type": "stream",
     "text": [
      "/Users/thibaut/anaconda/lib/python3.4/site-packages/sklearn/metrics/classification.py:1074: UndefinedMetricWarning: Precision and F-score are ill-defined and being set to 0.0 in labels with no predicted samples.\n",
      "  'precision', 'predicted', average, warn_for)\n"
     ]
    }
   ],
   "source": [
    "print(\"Performance par classe du classifieur Naive Bayes \\n\",sklearn.metrics.classification_report(y_test, predicted_NaiveBayes_reviewText))\n",
    "print(\"Performance par classe du classifieur SVM \\n\",sklearn.metrics.classification_report(y_test, predicted_SVM_reviewText))"
   ]
  },
  {
   "cell_type": "code",
   "execution_count": 236,
   "metadata": {
    "collapsed": false
   },
   "outputs": [
    {
     "name": "stdout",
     "output_type": "stream",
     "text": [
      "Matrice de confusion du classifieur Naive Bayes \n",
      " [[   60     0     0     0  7060]\n",
      " [    5     0     0     1  4567]\n",
      " [    1     0     0     3  7642]\n",
      " [    0     0     0     9 18550]\n",
      " [    2     0     2     9 62126]]\n",
      "Matrice de confusion du classifieur SVM \n",
      " [[    0     0     0     0  7120]\n",
      " [    0     0     0     0  4573]\n",
      " [    0     0     0     0  7646]\n",
      " [    0     0     0     0 18559]\n",
      " [    0     0     0     0 62139]]\n"
     ]
    }
   ],
   "source": [
    "print(\"Matrice de confusion du classifieur Naive Bayes \\n\",sklearn.metrics.confusion_matrix(y_test, predicted_NaiveBayes_reviewText))\n",
    "print(\"Matrice de confusion du classifieur SVM \\n\",sklearn.metrics.confusion_matrix(y_test, predicted_SVM_reviewText))"
   ]
  },
  {
   "cell_type": "markdown",
   "metadata": {},
   "source": [
    "### 2. Pour le résumé de la review"
   ]
  },
  {
   "cell_type": "code",
   "execution_count": 237,
   "metadata": {
    "collapsed": false
   },
   "outputs": [
    {
     "name": "stdout",
     "output_type": "stream",
     "text": [
      "L'accuracy du classifieur Naive Bayes est de 66.4%\n",
      "L'accuracy du classifieur SVM est de 62.4%\n"
     ]
    }
   ],
   "source": [
    "print(\"L'accuracy du classifieur Naive Bayes est de \"+str((np.mean(predicted_NaiveBayes_summary == y_test)*100).round(1))+\"%\")\n",
    "print(\"L'accuracy du classifieur SVM est de \"+str((np.mean(predicted_SVM_summary == y_test)*100).round(1))+\"%\")"
   ]
  },
  {
   "cell_type": "code",
   "execution_count": 238,
   "metadata": {
    "collapsed": false
   },
   "outputs": [
    {
     "name": "stdout",
     "output_type": "stream",
     "text": [
      "Performance par classe du classifieur Naive Bayes \n",
      "              precision    recall  f1-score   support\n",
      "\n",
      "        1.0       0.67      0.40      0.50      7120\n",
      "        2.0       0.34      0.01      0.01      4573\n",
      "        3.0       0.49      0.11      0.18      7646\n",
      "        4.0       0.38      0.07      0.12     18559\n",
      "        5.0       0.68      0.99      0.80     62139\n",
      "\n",
      "avg / total       0.59      0.66      0.57    100037\n",
      "\n",
      "Performance par classe du classifieur SVM \n",
      "              precision    recall  f1-score   support\n",
      "\n",
      "        1.0       1.00      0.00      0.00      7120\n",
      "        2.0       0.00      0.00      0.00      4573\n",
      "        3.0       0.67      0.03      0.05      7646\n",
      "        4.0       0.42      0.03      0.05     18559\n",
      "        5.0       0.63      0.99      0.77     62139\n",
      "\n",
      "avg / total       0.59      0.62      0.49    100037\n",
      "\n"
     ]
    },
    {
     "name": "stderr",
     "output_type": "stream",
     "text": [
      "/Users/thibaut/anaconda/lib/python3.4/site-packages/sklearn/metrics/classification.py:1074: UndefinedMetricWarning: Precision and F-score are ill-defined and being set to 0.0 in labels with no predicted samples.\n",
      "  'precision', 'predicted', average, warn_for)\n"
     ]
    }
   ],
   "source": [
    "print(\"Performance par classe du classifieur Naive Bayes \\n\",sklearn.metrics.classification_report(y_test, predicted_NaiveBayes_summary))\n",
    "print(\"Performance par classe du classifieur SVM \\n\",sklearn.metrics.classification_report(y_test, predicted_SVM_summary))"
   ]
  },
  {
   "cell_type": "code",
   "execution_count": 239,
   "metadata": {
    "collapsed": false
   },
   "outputs": [
    {
     "name": "stdout",
     "output_type": "stream",
     "text": [
      "Matrice de confusion du classifieur Naive Bayes \n",
      " [[ 2867    25   180   311  3737]\n",
      " [  802    24   387   324  3036]\n",
      " [  331    15   851   943  5506]\n",
      " [  130     2   223  1344 16860]\n",
      " [  131     4    90   608 61306]]\n",
      "Matrice de confusion du classifieur SVM \n",
      " [[    2     0     3    57  7058]\n",
      " [    0     0    29    50  4494]\n",
      " [    0     0   207   148  7291]\n",
      " [    0     0    53   512 17994]\n",
      " [    0     0    17   450 61672]]\n"
     ]
    }
   ],
   "source": [
    "print(\"Matrice de confusion du classifieur Naive Bayes \\n\",sklearn.metrics.confusion_matrix(y_test, predicted_NaiveBayes_summary))\n",
    "print(\"Matrice de confusion du classifieur SVM \\n\",sklearn.metrics.confusion_matrix(y_test, predicted_SVM_summary))"
   ]
  },
  {
   "cell_type": "markdown",
   "metadata": {},
   "source": [
    "### 3. Texte complet et résumé de la review"
   ]
  },
  {
   "cell_type": "code",
   "execution_count": 240,
   "metadata": {
    "collapsed": false
   },
   "outputs": [
    {
     "name": "stdout",
     "output_type": "stream",
     "text": [
      "L'accuracy du classifieur Naive Bayes est de 64.8%\n",
      "L'accuracy du classifieur SVM est de 62.8%\n"
     ]
    }
   ],
   "source": [
    "print(\"L'accuracy du classifieur Naive Bayes est de \"+str((np.mean(predicted_NaiveBayes_alltext == y_test)*100).round(1))+\"%\")\n",
    "print(\"L'accuracy du classifieur SVM est de \"+str((np.mean(predicted_SVM_alltext == y_test)*100).round(1))+\"%\")"
   ]
  },
  {
   "cell_type": "code",
   "execution_count": 241,
   "metadata": {
    "collapsed": false
   },
   "outputs": [
    {
     "name": "stdout",
     "output_type": "stream",
     "text": [
      "Performance par classe du classifieur Naive Bayes \n",
      "              precision    recall  f1-score   support\n",
      "\n",
      "        1.0       0.82      0.28      0.41      7120\n",
      "        2.0       0.00      0.00      0.00      4573\n",
      "        3.0       0.60      0.03      0.05      7646\n",
      "        4.0       0.31      0.04      0.07     18559\n",
      "        5.0       0.65      1.00      0.79     62139\n",
      "\n",
      "avg / total       0.57      0.65      0.54    100037\n",
      "\n",
      "Performance par classe du classifieur SVM \n",
      "              precision    recall  f1-score   support\n",
      "\n",
      "        1.0       0.97      0.02      0.04      7120\n",
      "        2.0       0.00      0.00      0.00      4573\n",
      "        3.0       0.68      0.03      0.06      7646\n",
      "        4.0       0.48      0.04      0.07     18559\n",
      "        5.0       0.63      0.99      0.77     62139\n",
      "\n",
      "avg / total       0.60      0.63      0.50    100037\n",
      "\n"
     ]
    },
    {
     "name": "stderr",
     "output_type": "stream",
     "text": [
      "/Users/thibaut/anaconda/lib/python3.4/site-packages/sklearn/metrics/classification.py:1074: UndefinedMetricWarning: Precision and F-score are ill-defined and being set to 0.0 in labels with no predicted samples.\n",
      "  'precision', 'predicted', average, warn_for)\n"
     ]
    }
   ],
   "source": [
    "print(\"Performance par classe du classifieur Naive Bayes \\n\",sklearn.metrics.classification_report(y_test, predicted_NaiveBayes_alltext))\n",
    "print(\"Performance par classe du classifieur SVM \\n\",sklearn.metrics.classification_report(y_test, predicted_SVM_alltext))"
   ]
  },
  {
   "cell_type": "code",
   "execution_count": 242,
   "metadata": {
    "collapsed": false
   },
   "outputs": [
    {
     "name": "stdout",
     "output_type": "stream",
     "text": [
      "Matrice de confusion du classifieur Naive Bayes \n",
      " [[ 1975     0    16   227  4902]\n",
      " [  301     0    78   347  3847]\n",
      " [   95     0   200   892  6459]\n",
      " [   17     0    29   717 17796]\n",
      " [   20     1    10   158 61950]]\n",
      "Matrice de confusion du classifieur SVM \n",
      " [[  162     0     6    64  6888]\n",
      " [    4     0    35    69  4465]\n",
      " [    0     0   230   242  7174]\n",
      " [    0     0    51   698 17810]\n",
      " [    1     0    17   389 61732]]\n"
     ]
    }
   ],
   "source": [
    "print(\"Matrice de confusion du classifieur Naive Bayes \\n\",sklearn.metrics.confusion_matrix(y_test, predicted_NaiveBayes_alltext))\n",
    "print(\"Matrice de confusion du classifieur SVM \\n\",sklearn.metrics.confusion_matrix(y_test, predicted_SVM_alltext))"
   ]
  },
  {
   "cell_type": "markdown",
   "metadata": {},
   "source": [
    "### 4. Features supplémentaires"
   ]
  },
  {
   "cell_type": "code",
   "execution_count": 243,
   "metadata": {
    "collapsed": false
   },
   "outputs": [
    {
     "name": "stdout",
     "output_type": "stream",
     "text": [
      "L'accuracy du classifieur Naive Bayes est de 62.1%\n",
      "L'accuracy du classifieur SVM est de 62.1%\n"
     ]
    }
   ],
   "source": [
    "print(\"L'accuracy du classifieur Naive Bayes est de \"+str((np.mean(predicted_NaiveBayes_supfeatures == y_test)*100).round(1))+\"%\")\n",
    "print(\"L'accuracy du classifieur SVM est de \"+str((np.mean(predicted_SVM_supfeatures == y_test)*100).round(1))+\"%\")"
   ]
  },
  {
   "cell_type": "code",
   "execution_count": 244,
   "metadata": {
    "collapsed": false
   },
   "outputs": [
    {
     "name": "stdout",
     "output_type": "stream",
     "text": [
      "Performance par classe du classifieur Naive Bayes \n",
      "              precision    recall  f1-score   support\n",
      "\n",
      "        1.0       0.00      0.00      0.00      7120\n",
      "        2.0       0.00      0.00      0.00      4573\n",
      "        3.0       0.00      0.00      0.00      7646\n",
      "        4.0       0.00      0.00      0.00     18559\n",
      "        5.0       0.62      1.00      0.77     62139\n",
      "\n",
      "avg / total       0.39      0.62      0.48    100037\n",
      "\n",
      "Performance par classe du classifieur SVM \n",
      "              precision    recall  f1-score   support\n",
      "\n",
      "        1.0       0.00      0.00      0.00      7120\n",
      "        2.0       0.00      0.00      0.00      4573\n",
      "        3.0       0.00      0.00      0.00      7646\n",
      "        4.0       0.00      0.00      0.00     18559\n",
      "        5.0       0.62      1.00      0.77     62139\n",
      "\n",
      "avg / total       0.39      0.62      0.48    100037\n",
      "\n"
     ]
    },
    {
     "name": "stderr",
     "output_type": "stream",
     "text": [
      "/Users/thibaut/anaconda/lib/python3.4/site-packages/sklearn/metrics/classification.py:1074: UndefinedMetricWarning: Precision and F-score are ill-defined and being set to 0.0 in labels with no predicted samples.\n",
      "  'precision', 'predicted', average, warn_for)\n"
     ]
    }
   ],
   "source": [
    "print(\"Performance par classe du classifieur Naive Bayes \\n\",sklearn.metrics.classification_report(y_test, predicted_NaiveBayes_supfeatures))\n",
    "print(\"Performance par classe du classifieur SVM \\n\",sklearn.metrics.classification_report(y_test, predicted_SVM_supfeatures))"
   ]
  },
  {
   "cell_type": "code",
   "execution_count": 245,
   "metadata": {
    "collapsed": false
   },
   "outputs": [
    {
     "name": "stdout",
     "output_type": "stream",
     "text": [
      "Matrice de confusion du classifieur Naive Bayes \n",
      " [[    0     0     0     0  7120]\n",
      " [    0     0     0     0  4573]\n",
      " [    0     0     0     0  7646]\n",
      " [    0     0     0     0 18559]\n",
      " [    0     0     0     0 62139]]\n",
      "Matrice de confusion du classifieur SVM \n",
      " [[    0     0     0     0  7120]\n",
      " [    0     0     0     0  4573]\n",
      " [    0     0     0     0  7646]\n",
      " [    0     0     0     0 18559]\n",
      " [    0     0     0     0 62139]]\n"
     ]
    }
   ],
   "source": [
    "print(\"Matrice de confusion du classifieur Naive Bayes \\n\",sklearn.metrics.confusion_matrix(y_test, predicted_NaiveBayes_supfeatures))\n",
    "print(\"Matrice de confusion du classifieur SVM \\n\",sklearn.metrics.confusion_matrix(y_test, predicted_SVM_supfeatures))"
   ]
  },
  {
   "cell_type": "markdown",
   "metadata": {},
   "source": [
    "On constate qu'il s'agit d'un classifieur sans intérêt, car il ne prédit que des 5."
   ]
  },
  {
   "cell_type": "markdown",
   "metadata": {},
   "source": [
    "### 3. Pour la combinaison des features"
   ]
  },
  {
   "cell_type": "code",
   "execution_count": 246,
   "metadata": {
    "collapsed": false
   },
   "outputs": [
    {
     "name": "stdout",
     "output_type": "stream",
     "text": [
      "L'accuracy du classifieur Naive Bayes est de 64.3%\n",
      "L'accuracy du classifieur SVM est de 62.8%\n"
     ]
    }
   ],
   "source": [
    "print(\"L'accuracy du classifieur Naive Bayes est de \"+str((np.mean(predicted_NaiveBayes_allfeatures == y_test)*100).round(1))+\"%\")\n",
    "print(\"L'accuracy du classifieur SVM est de \"+str((np.mean(predicted_SVM_allfeatures == y_test)*100).round(1))+\"%\")"
   ]
  },
  {
   "cell_type": "code",
   "execution_count": 247,
   "metadata": {
    "collapsed": false
   },
   "outputs": [
    {
     "name": "stdout",
     "output_type": "stream",
     "text": [
      "Performance par classe du classifieur Naive Bayes \n",
      "              precision    recall  f1-score   support\n",
      "\n",
      "        1.0       0.84      0.23      0.36      7120\n",
      "        2.0       0.00      0.00      0.00      4573\n",
      "        3.0       0.60      0.01      0.02      7646\n",
      "        4.0       0.28      0.03      0.06     18559\n",
      "        5.0       0.65      1.00      0.78     62139\n",
      "\n",
      "avg / total       0.56      0.64      0.53    100037\n",
      "\n",
      "Performance par classe du classifieur SVM \n",
      "              precision    recall  f1-score   support\n",
      "\n",
      "        1.0       0.94      0.03      0.05      7120\n",
      "        2.0       0.00      0.00      0.00      4573\n",
      "        3.0       0.67      0.03      0.06      7646\n",
      "        4.0       0.47      0.04      0.07     18559\n",
      "        5.0       0.63      0.99      0.77     62139\n",
      "\n",
      "avg / total       0.60      0.63      0.50    100037\n",
      "\n"
     ]
    },
    {
     "name": "stderr",
     "output_type": "stream",
     "text": [
      "/Users/thibaut/anaconda/lib/python3.4/site-packages/sklearn/metrics/classification.py:1074: UndefinedMetricWarning: Precision and F-score are ill-defined and being set to 0.0 in labels with no predicted samples.\n",
      "  'precision', 'predicted', average, warn_for)\n"
     ]
    }
   ],
   "source": [
    "print(\"Performance par classe du classifieur Naive Bayes \\n\",sklearn.metrics.classification_report(y_test, predicted_NaiveBayes_allfeatures))\n",
    "print(\"Performance par classe du classifieur SVM \\n\",sklearn.metrics.classification_report(y_test, predicted_SVM_allfeatures))"
   ]
  },
  {
   "cell_type": "code",
   "execution_count": 248,
   "metadata": {
    "collapsed": false
   },
   "outputs": [
    {
     "name": "stdout",
     "output_type": "stream",
     "text": [
      "Matrice de confusion du classifieur Naive Bayes \n",
      " [[ 1615     0     9   221  5275]\n",
      " [  227     0    42   329  3975]\n",
      " [   55     0    92   866  6633]\n",
      " [    9     0     6   615 17929]\n",
      " [    9     0     4   134 61992]]\n",
      "Matrice de confusion du classifieur SVM \n",
      " [[  188     0     6    66  6860]\n",
      " [    9     0    35    67  4462]\n",
      " [    0     0   233   252  7161]\n",
      " [    0     0    57   700 17802]\n",
      " [    2     0    16   398 61723]]\n"
     ]
    }
   ],
   "source": [
    "print(\"Matrice de confusion du classifieur Naive Bayes \\n\",sklearn.metrics.confusion_matrix(y_test, predicted_NaiveBayes_allfeatures))\n",
    "print(\"Matrice de confusion du classifieur SVM \\n\",sklearn.metrics.confusion_matrix(y_test, predicted_SVM_allfeatures))"
   ]
  },
  {
   "cell_type": "markdown",
   "metadata": {},
   "source": [
    "## Simplification du problème en classification binaire"
   ]
  },
  {
   "cell_type": "markdown",
   "metadata": {},
   "source": [
    "En étudiant les matrices de confusion obtenues, on voit qu'il est difficile de prédire distinctement les notes entre 1 et 4. Nous allons donc nous ramener à un sous-problème de classification binaire, c'est-à-dire de prédire si la note sera de 5 ou non."
   ]
  },
  {
   "cell_type": "code",
   "execution_count": 253,
   "metadata": {
    "collapsed": false
   },
   "outputs": [],
   "source": [
    "def bin_transformation(x):\n",
    "    if x==5:\n",
    "        return(\"1\")\n",
    "    else:\n",
    "        return(\"0\")"
   ]
  },
  {
   "cell_type": "code",
   "execution_count": 254,
   "metadata": {
    "collapsed": false
   },
   "outputs": [],
   "source": [
    "y_train_bin=y_train.apply(bin_transformation).astype(\"category\")\n",
    "y_test_bin=y_test.apply(bin_transformation).astype(\"category\")"
   ]
  },
  {
   "cell_type": "markdown",
   "metadata": {},
   "source": [
    "On ré-entraîne tous les classifieurs pour ce problème binaire:"
   ]
  },
  {
   "cell_type": "code",
   "execution_count": 255,
   "metadata": {
    "collapsed": false
   },
   "outputs": [],
   "source": [
    "#Texte complet de la review\n",
    "clf = MultinomialNB().fit(X_train_tfidf_reviewText, y_train_bin)\n",
    "predicted_bin_NaiveBayes_reviewText = clf.predict(X_test_tfidf_reviewText)\n",
    "clf2 = SGDclass.fit(X_train_tfidf_reviewText, y_train_bin)\n",
    "predicted_bin_SVM_reviewText = clf2.predict(X_test_tfidf_reviewText)\n",
    "#Texte du résumé de la review\n",
    "clf = MultinomialNB().fit(X_train_tfidf_summary, y_train_bin)\n",
    "predicted_bin_NaiveBayes_summary = clf.predict(X_test_tfidf_summary)\n",
    "clf2 = SGDclass.fit(X_train_tfidf_summary, y_train_bin)\n",
    "predicted_bin_SVM_summary = clf2.predict(X_test_tfidf_summary)\n",
    "#Texte complet et résumé de la review\n",
    "clf = MultinomialNB().fit(X_train_alltext, y_train_bin)\n",
    "predicted_bin_NaiveBayes_alltext = clf.predict(X_test_alltext)\n",
    "clf2 = SGDclass.fit(X_train_alltext, y_train_bin)\n",
    "predicted_bin_SVM_alltext = clf2.predict(X_test_alltext)\n",
    "#Features supplémentaires\n",
    "clf = MultinomialNB().fit(X_train_supfeatures, y_train_bin)\n",
    "predicted_bin_NaiveBayes_supfeatures = clf.predict(X_test_supfeatures)\n",
    "clf2 = SGDclass.fit(X_train_supfeatures, y_train_bin)\n",
    "predicted_bin_SVM_supfeatures = clf2.predict(X_test_supfeatures)\n",
    "#Combinaison de toutes les features\n",
    "clf = MultinomialNB().fit(X_train_allfeatures, y_train_bin)\n",
    "predicted_bin_NaiveBayes_allfeatures = clf.predict(X_test_allfeatures)\n",
    "clf2 = SGDclass.fit(X_train_allfeatures, y_train_bin)\n",
    "predicted_bin_SVM_allfeatures = clf.predict(X_test_allfeatures)"
   ]
  },
  {
   "cell_type": "markdown",
   "metadata": {},
   "source": [
    "Maintenant on peut réévaluer l'ensemble des classifieurs sur nos features. Notons qu'on calcule les indicateurs Precision, Recall et f1-score pour le label \"5\" uniquement étant donné que le problème est binaire."
   ]
  },
  {
   "cell_type": "code",
   "execution_count": 256,
   "metadata": {
    "collapsed": false
   },
   "outputs": [
    {
     "name": "stderr",
     "output_type": "stream",
     "text": [
      "/Users/thibaut/anaconda/lib/python3.4/site-packages/sklearn/metrics/classification.py:1074: UndefinedMetricWarning: Precision and F-score are ill-defined and being set to 0.0 in labels with no predicted samples.\n",
      "  'precision', 'predicted', average, warn_for)\n"
     ]
    },
    {
     "data": {
      "text/html": [
       "<div>\n",
       "<table border=\"1\" class=\"dataframe\">\n",
       "  <thead>\n",
       "    <tr style=\"text-align: right;\">\n",
       "      <th></th>\n",
       "      <th>Accuracy</th>\n",
       "      <th>Precision</th>\n",
       "      <th>Recall</th>\n",
       "      <th>f1-score</th>\n",
       "    </tr>\n",
       "  </thead>\n",
       "  <tbody>\n",
       "    <tr>\n",
       "      <th>ReviewText-NaiveBayes</th>\n",
       "      <td>67.5%</td>\n",
       "      <td>65.9%</td>\n",
       "      <td>99.0%</td>\n",
       "      <td>79.1%</td>\n",
       "    </tr>\n",
       "    <tr>\n",
       "      <th>ReviewText-SVM</th>\n",
       "      <td>67.5%</td>\n",
       "      <td>65.9%</td>\n",
       "      <td>99.0%</td>\n",
       "      <td>79.1%</td>\n",
       "    </tr>\n",
       "    <tr>\n",
       "      <th>Summary-NaiveBayes</th>\n",
       "      <td>74.7%</td>\n",
       "      <td>73.8%</td>\n",
       "      <td>91.9%</td>\n",
       "      <td>81.9%</td>\n",
       "    </tr>\n",
       "    <tr>\n",
       "      <th>Summary-SVM</th>\n",
       "      <td>67.5%</td>\n",
       "      <td>66.3%</td>\n",
       "      <td>96.8%</td>\n",
       "      <td>78.7%</td>\n",
       "    </tr>\n",
       "    <tr>\n",
       "      <th>Alltext-NaiveBayes</th>\n",
       "      <td>78.7%</td>\n",
       "      <td>76.8%</td>\n",
       "      <td>94.2%</td>\n",
       "      <td>84.6%</td>\n",
       "    </tr>\n",
       "    <tr>\n",
       "      <th>Alltext-SVM</th>\n",
       "      <td>74.7%</td>\n",
       "      <td>72.3%</td>\n",
       "      <td>96.0%</td>\n",
       "      <td>82.5%</td>\n",
       "    </tr>\n",
       "    <tr>\n",
       "      <th>Supfeatures-NaiveBayes</th>\n",
       "      <td>62.1%</td>\n",
       "      <td>62.1%</td>\n",
       "      <td>100.0%</td>\n",
       "      <td>76.6%</td>\n",
       "    </tr>\n",
       "    <tr>\n",
       "      <th>Supfeatures-SVM</th>\n",
       "      <td>62.1%</td>\n",
       "      <td>62.1%</td>\n",
       "      <td>100.0%</td>\n",
       "      <td>76.6%</td>\n",
       "    </tr>\n",
       "    <tr>\n",
       "      <th>Allfeatures-NaiveBayes</th>\n",
       "      <td>78.6%</td>\n",
       "      <td>76.6%</td>\n",
       "      <td>94.5%</td>\n",
       "      <td>84.6%</td>\n",
       "    </tr>\n",
       "    <tr>\n",
       "      <th>Allfeatures-SVM</th>\n",
       "      <td>78.6%</td>\n",
       "      <td>76.6%</td>\n",
       "      <td>94.5%</td>\n",
       "      <td>84.6%</td>\n",
       "    </tr>\n",
       "  </tbody>\n",
       "</table>\n",
       "</div>"
      ],
      "text/plain": [
       "                       Accuracy Precision  Recall f1-score\n",
       "ReviewText-NaiveBayes     67.5%     65.9%   99.0%    79.1%\n",
       "ReviewText-SVM            67.5%     65.9%   99.0%    79.1%\n",
       "Summary-NaiveBayes        74.7%     73.8%   91.9%    81.9%\n",
       "Summary-SVM               67.5%     66.3%   96.8%    78.7%\n",
       "Alltext-NaiveBayes        78.7%     76.8%   94.2%    84.6%\n",
       "Alltext-SVM               74.7%     72.3%   96.0%    82.5%\n",
       "Supfeatures-NaiveBayes    62.1%     62.1%  100.0%    76.6%\n",
       "Supfeatures-SVM           62.1%     62.1%  100.0%    76.6%\n",
       "Allfeatures-NaiveBayes    78.6%     76.6%   94.5%    84.6%\n",
       "Allfeatures-SVM           78.6%     76.6%   94.5%    84.6%"
      ]
     },
     "execution_count": 256,
     "metadata": {},
     "output_type": "execute_result"
    }
   ],
   "source": [
    "index_clf=[\"ReviewText-NaiveBayes\",\"ReviewText-SVM\",\"Summary-NaiveBayes\",\"Summary-SVM\",\n",
    "           \"Alltext-NaiveBayes\",\"Alltext-SVM\",\"Supfeatures-NaiveBayes\",\"Supfeatures-SVM\",\n",
    "          \"Allfeatures-NaiveBayes\",\"Allfeatures-SVM\"]\n",
    "predicted_clf=[predicted_bin_SVM_reviewText, predicted_bin_SVM_reviewText, \n",
    "              predicted_bin_NaiveBayes_summary, predicted_bin_SVM_summary,\n",
    "             predicted_bin_NaiveBayes_alltext, predicted_bin_SVM_alltext,\n",
    "             predicted_bin_NaiveBayes_supfeatures, predicted_bin_SVM_supfeatures,\n",
    "             predicted_bin_NaiveBayes_allfeatures, predicted_bin_SVM_allfeatures]\n",
    "def percent_round1(x):\n",
    "    return(str((x*100).round(1))+\"%\")\n",
    "Accuracy_clf=[percent_round1(np.mean(x==y_test_bin)) for x in predicted_clf]\n",
    "Report_clf=[sklearn.metrics.precision_recall_fscore_support(y_test_bin, x) for x in predicted_clf]\n",
    "Precision_clf=[percent_round1(x[0][1]) for x in Report_clf]\n",
    "Recall_clf=[percent_round1(x[1][1]) for x in Report_clf]\n",
    "f1score_clf=[percent_round1(x[2][1]) for x in Report_clf]\n",
    "\n",
    "dic_clf = {'Accuracy' : pd.Series(Accuracy_clf, index=index_clf),\n",
    "     'Precision' : pd.Series(Precision_clf, index=index_clf),\n",
    "     'Recall' : pd.Series(Recall_clf, index=index_clf),\n",
    "     'f1-score': pd.Series(f1score_clf, index=index_clf),\n",
    "    }\n",
    "df_clf=pd.DataFrame(dic_clf)\n",
    "df_clf"
   ]
  },
  {
   "cell_type": "markdown",
   "metadata": {},
   "source": [
    "On voit que le classifieur le plus performant est le **Naive Bayes sur tout le texte**, sans les features supplémentaires. L'ajout des features supplémentaires n'augmente pas particulièrement la performance, sauf pour le modèle SVM, qui reste cependant en dessous du NaiveBayes. De manière générale, la performance des classifieurs SVM est inférieure ou égale à celle des classifieurs Naive Bayes."
   ]
  },
  {
   "cell_type": "markdown",
   "metadata": {},
   "source": [
    "Enfin, pour évaluer la performance, nous allons tracer la courbe de ROC et évaluer le critère AUC. Pour faciliter la lisibilité du graphique, on élimine le classifieur uniquement sur les variables supplémentaires, car celui-ci ne prédit que des 5."
   ]
  },
  {
   "cell_type": "code",
   "execution_count": 257,
   "metadata": {
    "collapsed": false
   },
   "outputs": [],
   "source": [
    "#Texte complet de la review\n",
    "clf = MultinomialNB().fit(X_train_tfidf_reviewText, y_train_bin)\n",
    "probas_bin_NaiveBayes_reviewText = clf.predict_proba(X_test_tfidf_reviewText)[:,1]\n",
    "clf2 = SGDclass.fit(X_train_tfidf_reviewText, y_train_bin)\n",
    "probas_bin_SVM_reviewText = clf2.predict_proba(X_test_tfidf_reviewText)[:,1]\n",
    "#Texte du résumé de la review\n",
    "clf = MultinomialNB().fit(X_train_tfidf_summary, y_train_bin)\n",
    "probas_bin_NaiveBayes_summary = clf.predict_proba(X_test_tfidf_summary)[:,1]\n",
    "clf2 = SGDclass.fit(X_train_tfidf_summary, y_train_bin)\n",
    "probas_bin_SVM_summary = clf2.predict_proba(X_test_tfidf_summary)[:,1]\n",
    "#Texte complet et résumé de la review\n",
    "clf = MultinomialNB().fit(X_train_alltext, y_train_bin)\n",
    "probas_bin_NaiveBayes_alltext = clf.predict_proba(X_test_alltext)[:,1]\n",
    "clf2 = SGDclass.fit(X_train_alltext, y_train_bin)\n",
    "probas_bin_SVM_alltext = clf2.predict_proba(X_test_alltext)[:,1]\n",
    "#Combinaison de toutes les features\n",
    "clf = MultinomialNB().fit(X_train_allfeatures, y_train_bin)\n",
    "probas_bin_NaiveBayes_allfeatures = clf.predict_proba(X_test_allfeatures)[:,1]\n",
    "clf2 = SGDclass.fit(X_train_allfeatures, y_train_bin)\n",
    "probas_bin_SVM_allfeatures = clf.predict_proba(X_test_allfeatures)[:,1]"
   ]
  },
  {
   "cell_type": "code",
   "execution_count": 258,
   "metadata": {
    "collapsed": false
   },
   "outputs": [
    {
     "name": "stderr",
     "output_type": "stream",
     "text": [
      "/Users/thibaut/anaconda/lib/python3.4/site-packages/sklearn/metrics/ranking.py:534: UndefinedMetricWarning: No positive samples in y_true, true positive value should be meaningless\n",
      "  UndefinedMetricWarning)\n"
     ]
    },
    {
     "data": {
      "text/plain": [
       "<matplotlib.legend.Legend at 0x15b26f518>"
      ]
     },
     "execution_count": 258,
     "metadata": {},
     "output_type": "execute_result"
    },
    {
     "data": {
      "image/png": "[encoded data removed]",
      "text/plain": [
       "<matplotlib.figure.Figure at 0x153b48940>"
      ]
     },
     "metadata": {},
     "output_type": "display_data"
    }
   ],
   "source": [
    "%matplotlib inline\n",
    "matplotlib.rcParams['figure.figsize'] = (10, 6)\n",
    "from sklearn.metrics import roc_curve, auc\n",
    "probas = [probas_bin_NaiveBayes_reviewText,probas_bin_SVM_reviewText,\n",
    "         probas_bin_NaiveBayes_summary, probas_bin_SVM_summary,\n",
    "         probas_bin_NaiveBayes_alltext, probas_bin_SVM_alltext,\n",
    "         probas_bin_NaiveBayes_allfeatures, probas_bin_SVM_allfeatures]\n",
    "labels=[\"ReviewText-NaiveBayes\",\"ReviewText-SVM\",\"Summary-NaiveBayes\",\"Summary-SVM\",\n",
    "        \"Alltext-NaiveBayes\",\"Alltext-SVM\",\"Allfeatures-NaiveBayes\",\"Allfeatures-SVM\"]\n",
    "fpr= [None] * len(probas)\n",
    "tpr=[None] * len(probas)\n",
    "thresholds=[None] * len(probas)\n",
    "roc_auc=[None] * len(probas)\n",
    "for i in range(len(probas)):    \n",
    "    fpr[i], tpr[i], thresholds[i] = sklearn.metrics.roc_curve(y_test_bin.ravel(), probas[i], pos_label=\"5\")\n",
    "    roc_auc[i]=auc(fpr[i],tpr[i])\n",
    "    plt.plot(fpr[i], tpr[i], label=labels[i]+\" (AUC = %0.2f)\" % roc_auc[i])\n",
    "plt.plot([0, 1], [0, 1], 'k--')\n",
    "plt.xlim([0.0, 1.0])\n",
    "plt.ylim([0.0, 1.0])\n",
    "plt.xlabel('False Positive Rate')\n",
    "plt.ylabel('True Positive Rate')\n",
    "plt.title('Courbes de ROC (Receiver Operating characteristic)')\n",
    "plt.legend(loc=\"lower right\")"
   ]
  },
  {
   "cell_type": "markdown",
   "metadata": {},
   "source": [
    "On voit que l'apport des features supplémentaires n'importe qu'un petit gain d'AUC au classifieur SVM. Les modèles Naive Bayes sont toujours bien supérieurs en termes d'AUC aux modèles SVM."
   ]
  },
  {
   "cell_type": "markdown",
   "metadata": {},
   "source": [
    "## Optimisation des hyper-paramètres pour la classification binaire"
   ]
  },
  {
   "cell_type": "markdown",
   "metadata": {},
   "source": [
    "Nous allons nous concentrer ici sur l'optimisation des hyperparamètres de chacun des classifieurs sur l'intégralité des features."
   ]
  },
  {
   "cell_type": "markdown",
   "metadata": {},
   "source": [
    "### 1. Optimisation du classifieur Naive Bayes"
   ]
  },
  {
   "cell_type": "code",
   "execution_count": 140,
   "metadata": {
    "collapsed": false
   },
   "outputs": [
    {
     "data": {
      "text/plain": [
       "GridSearchCV(cv=None, error_score='raise',\n",
       "       estimator=MultinomialNB(alpha=1.0, class_prior=None, fit_prior=True),\n",
       "       fit_params={}, iid=True, n_jobs=1,\n",
       "       param_grid={'alpha': [0.001, 0.20506122448979594, 0.40912244897959188, 0.61318367346938785, 0.81724489795918376, 1.0213061224489797, 1.2253673469387756, 1.4294285714285715, 1.6334897959183674, 1.8375510204081633, 2.0416122448979594, 2.2456734693877554, 2.4497346938775513, 2.6537959183673472, 2.85785...6938775510213, 9.1837551020408164, 9.3878163265306132, 9.5918775510204082, 9.795938775510205, 10.0]},\n",
       "       pre_dispatch='2*n_jobs', refit=True, scoring=None, verbose=0)"
      ]
     },
     "execution_count": 140,
     "metadata": {},
     "output_type": "execute_result"
    }
   ],
   "source": [
    "from sklearn import grid_search\n",
    "parameters_NB = {'alpha':list(np.linspace(0.001,10,50))}\n",
    "clf1=grid_search.GridSearchCV(MultinomialNB(), parameters_NB)\n",
    "clf1.fit(X_train_allfeatures, y_train_bin)"
   ]
  },
  {
   "cell_type": "code",
   "execution_count": 159,
   "metadata": {
    "collapsed": false
   },
   "outputs": [
    {
     "name": "stdout",
     "output_type": "stream",
     "text": [
      "alpha: 0.40912244897959188\n"
     ]
    }
   ],
   "source": [
    "best_parameters, score, _ = max(clf1.grid_scores_, key=lambda x: x[1])\n",
    "for param_name in sorted(parameters_NB.keys()):\n",
    "    print(\"%s: %r\" % (param_name, best_parameters[param_name]))"
   ]
  },
  {
   "cell_type": "code",
   "execution_count": 160,
   "metadata": {
    "collapsed": false
   },
   "outputs": [
    {
     "data": {
      "text/plain": [
       "0.78690777866078876"
      ]
     },
     "execution_count": 160,
     "metadata": {},
     "output_type": "execute_result"
    }
   ],
   "source": [
    "score"
   ]
  },
  {
   "cell_type": "markdown",
   "metadata": {},
   "source": [
    "### 2. Optimisation du classifieur SVM"
   ]
  },
  {
   "cell_type": "code",
   "execution_count": 169,
   "metadata": {
    "collapsed": false
   },
   "outputs": [
    {
     "data": {
      "text/plain": [
       "GridSearchCV(cv=None, error_score='raise',\n",
       "       estimator=SGDClassifier(alpha=0.0001, average=False, class_weight=None, epsilon=0.1,\n",
       "       eta0=0.0, fit_intercept=True, l1_ratio=0.15,\n",
       "       learning_rate='optimal', loss='hinge', n_iter=5, n_jobs=1,\n",
       "       penalty='l2', power_t=0.5, random_state=None, shuffle=True,\n",
       "       verbose=0, warm_start=False),\n",
       "       fit_params={}, iid=True, n_jobs=1,\n",
       "       param_grid={'penalty': ['l2', 'l1', 'elasticnet'], 'loss': ['modified_huber', 'log'], 'alpha': [9.9999999999999995e-07, 2.1387755102040818e-05, 4.1775510204081632e-05, 6.2163265306122456e-05, 8.2551020408163267e-05, 0.00010293877551020408, 0.00012332653061224492, 0.00014371428571428573, 0.0001641020...00091844897959183678, 0.00093883673469387764, 0.0009592244897959184, 0.00097961224489795926, 0.001]},\n",
       "       pre_dispatch='2*n_jobs', refit=True, scoring=None, verbose=0)"
      ]
     },
     "execution_count": 169,
     "metadata": {},
     "output_type": "execute_result"
    }
   ],
   "source": [
    "parameters_SVM = {'alpha':list(np.linspace(0.000001,0.001,50)),\n",
    "                  'loss':[\"modified_huber\",\"log\"],\n",
    "                  'penalty': [\"l2\", \"l1\",\"elasticnet\"],\n",
    "                 }\n",
    "clf2=grid_search.GridSearchCV(SGDClassifier(), parameters_SVM)\n",
    "clf2.fit(X_train_allfeatures, y_train_bin)"
   ]
  },
  {
   "cell_type": "code",
   "execution_count": 170,
   "metadata": {
    "collapsed": false
   },
   "outputs": [
    {
     "name": "stdout",
     "output_type": "stream",
     "text": [
      "alpha: 0.00016410204081632654\n",
      "loss: 'modified_huber'\n",
      "penalty: 'l2'\n"
     ]
    }
   ],
   "source": [
    "best_parameters, score, _ = max(clf2.grid_scores_, key=lambda x: x[1])\n",
    "for param_name in sorted(parameters_SVM.keys()):\n",
    "    print(\"%s: %r\" % (param_name, best_parameters[param_name]))"
   ]
  },
  {
   "cell_type": "code",
   "execution_count": 287,
   "metadata": {
    "collapsed": true
   },
   "outputs": [],
   "source": [
    "predicted_bin_SVM_optim_allfeatures = clf2.predict(X_test_allfeatures)"
   ]
  },
  {
   "cell_type": "markdown",
   "metadata": {},
   "source": [
    "### Comparaison de performance entre classifieurs optimisés et non optimisés"
   ]
  },
  {
   "cell_type": "code",
   "execution_count": 291,
   "metadata": {
    "collapsed": false
   },
   "outputs": [
    {
     "data": {
      "text/html": [
       "<div>\n",
       "<table border=\"1\" class=\"dataframe\">\n",
       "  <thead>\n",
       "    <tr style=\"text-align: right;\">\n",
       "      <th></th>\n",
       "      <th>Accuracy</th>\n",
       "      <th>Precision</th>\n",
       "      <th>Recall</th>\n",
       "      <th>f1-score</th>\n",
       "    </tr>\n",
       "  </thead>\n",
       "  <tbody>\n",
       "    <tr>\n",
       "      <th>NaiveBayes-Basic</th>\n",
       "      <td>78.2%</td>\n",
       "      <td>76.1%</td>\n",
       "      <td>94.3%</td>\n",
       "      <td>84.2%</td>\n",
       "    </tr>\n",
       "    <tr>\n",
       "      <th>NaiveBayes-Optimized</th>\n",
       "      <td>78.7%</td>\n",
       "      <td>77.9%</td>\n",
       "      <td>91.5%</td>\n",
       "      <td>84.2%</td>\n",
       "    </tr>\n",
       "    <tr>\n",
       "      <th>SVM-Basic</th>\n",
       "      <td>78.2%</td>\n",
       "      <td>76.1%</td>\n",
       "      <td>94.3%</td>\n",
       "      <td>84.2%</td>\n",
       "    </tr>\n",
       "    <tr>\n",
       "      <th>SVM-Optimized</th>\n",
       "      <td>81.3%</td>\n",
       "      <td>81.2%</td>\n",
       "      <td>90.8%</td>\n",
       "      <td>85.7%</td>\n",
       "    </tr>\n",
       "  </tbody>\n",
       "</table>\n",
       "</div>"
      ],
      "text/plain": [
       "                     Accuracy Precision Recall f1-score\n",
       "NaiveBayes-Basic        78.2%     76.1%  94.3%    84.2%\n",
       "NaiveBayes-Optimized    78.7%     77.9%  91.5%    84.2%\n",
       "SVM-Basic               78.2%     76.1%  94.3%    84.2%\n",
       "SVM-Optimized           81.3%     81.2%  90.8%    85.7%"
      ]
     },
     "execution_count": 291,
     "metadata": {},
     "output_type": "execute_result"
    }
   ],
   "source": [
    "index_clf=[\"NaiveBayes-Basic\",\"NaiveBayes-Optimized\",\"SVM-Basic\",\"SVM-Optimized\"]\n",
    "predicted_clf=[predicted_bin_NaiveBayes_allfeatures, predicted_bin_NaiveBayes_optim_allfeatures,\n",
    "               predicted_bin_SVM_allfeatures, predicted_bin_SVM_optim_allfeatures]\n",
    "def percent_round1(x):\n",
    "    return(str((x*100).round(1))+\"%\")\n",
    "Accuracy_clf=[percent_round1(np.mean(x==y_test_bin)) for x in predicted_clf]\n",
    "Report_clf=[sklearn.metrics.precision_recall_fscore_support(y_test_bin, x) for x in predicted_clf]\n",
    "Precision_clf=[percent_round1(x[0][1]) for x in Report_clf]\n",
    "Recall_clf=[percent_round1(x[1][1]) for x in Report_clf]\n",
    "f1score_clf=[percent_round1(x[2][1]) for x in Report_clf]\n",
    "\n",
    "dic_clf = {'Accuracy' : pd.Series(Accuracy_clf, index=index_clf),\n",
    "     'Precision' : pd.Series(Precision_clf, index=index_clf),\n",
    "     'Recall' : pd.Series(Recall_clf, index=index_clf),\n",
    "     'f1-score': pd.Series(f1score_clf, index=index_clf),\n",
    "    }\n",
    "df_clf=pd.DataFrame(dic_clf)\n",
    "df_clf"
   ]
  },
  {
   "cell_type": "markdown",
   "metadata": {},
   "source": [
    "On voit que l'optimisation est sensible pour le classifieur SVM, qui dépasse maintenant le classifieur Naive Bayes, sauf en termes de recall. Cependant, le temps de calcul a été beaucoup plus long pour SVM que pour Naive Bayes."
   ]
  },
  {
   "cell_type": "markdown",
   "metadata": {},
   "source": [
    "## Analyse de la performance en fonction du nombre de mots"
   ]
  },
  {
   "cell_type": "code",
   "execution_count": 259,
   "metadata": {
    "collapsed": false
   },
   "outputs": [],
   "source": [
    "def createBins(x):\n",
    "    if x[\"countWordsReview\"] < 17:\n",
    "        return(17)\n",
    "    elif x[\"countWordsReview\"] < 30:\n",
    "        return(30)\n",
    "    elif x[\"countWordsReview\"] < 60:\n",
    "        return(60)\n",
    "    elif x[\"countWordsReview\"] < 100:\n",
    "        return(100)\n",
    "    elif x[\"countWordsReview\"] < 200:\n",
    "        return(200)\n",
    "    else:\n",
    "        return(300)"
   ]
  },
  {
   "cell_type": "code",
   "execution_count": null,
   "metadata": {
    "collapsed": true
   },
   "outputs": [],
   "source": []
  },
  {
   "cell_type": "code",
   "execution_count": 145,
   "metadata": {
    "collapsed": true
   },
   "outputs": [],
   "source": [
    "dfy = pd.DataFrame(y_test)"
   ]
  },
  {
   "cell_type": "code",
   "execution_count": 146,
   "metadata": {
    "collapsed": true
   },
   "outputs": [],
   "source": [
    "dfy[\"predicted\"] = predicted_bin_SVM_allfeatures"
   ]
  },
  {
   "cell_type": "code",
   "execution_count": 147,
   "metadata": {
    "collapsed": true
   },
   "outputs": [],
   "source": [
    "dfy[\"reviewText\"] = df_test[\"reviewText\"]"
   ]
  },
  {
   "cell_type": "code",
   "execution_count": 148,
   "metadata": {
    "collapsed": true
   },
   "outputs": [],
   "source": [
    "dfy[\"countWordsReview\"] = dfy[\"reviewText\"].apply(countWords)"
   ]
  },
  {
   "cell_type": "code",
   "execution_count": 182,
   "metadata": {
    "collapsed": false
   },
   "outputs": [
    {
     "data": {
      "text/plain": [
       "numpy.ndarray"
      ]
     },
     "execution_count": 182,
     "metadata": {},
     "output_type": "execute_result"
    }
   ],
   "source": [
    "type(predicted_bin_SVM_allfeatures)"
   ]
  },
  {
   "cell_type": "code",
   "execution_count": 184,
   "metadata": {
    "collapsed": false
   },
   "outputs": [
    {
     "data": {
      "text/plain": [
       "array(['5', '5', '5', ..., '5', '5', '5'], \n",
       "      dtype='<U3')"
      ]
     },
     "execution_count": 184,
     "metadata": {},
     "output_type": "execute_result"
    }
   ],
   "source": [
    "predicted_bin_SVM_allfeatures"
   ]
  },
  {
   "cell_type": "code",
   "execution_count": 183,
   "metadata": {
    "collapsed": false
   },
   "outputs": [
    {
     "data": {
      "text/plain": [
       "117787    1\n",
       "16972     1\n",
       "341789    1\n",
       "492202    1\n",
       "425536    1\n",
       "386048    0\n",
       "135278    1\n",
       "439217    0\n",
       "289326    0\n",
       "169907    1\n",
       "402299    1\n",
       "330724    1\n",
       "97980     0\n",
       "33289     1\n",
       "247093    1\n",
       "387134    0\n",
       "162474    0\n",
       "416906    0\n",
       "18176     1\n",
       "1859      1\n",
       "80578     1\n",
       "367794    0\n",
       "268270    1\n",
       "61690     0\n",
       "160958    0\n",
       "402680    0\n",
       "411954    0\n",
       "490793    1\n",
       "210193    1\n",
       "379576    1\n",
       "         ..\n",
       "385013    1\n",
       "320725    0\n",
       "24736     0\n",
       "218380    1\n",
       "452166    0\n",
       "189652    1\n",
       "49712     1\n",
       "80159     1\n",
       "229406    1\n",
       "18657     0\n",
       "244182    0\n",
       "446180    1\n",
       "201116    0\n",
       "422103    1\n",
       "29724     0\n",
       "234996    0\n",
       "430184    1\n",
       "126755    0\n",
       "252019    1\n",
       "106482    1\n",
       "242889    0\n",
       "7185      1\n",
       "389570    1\n",
       "173152    1\n",
       "68720     1\n",
       "309437    1\n",
       "72255     1\n",
       "54775     0\n",
       "403348    1\n",
       "498027    1\n",
       "Name: overall, dtype: int64"
      ]
     },
     "execution_count": 183,
     "metadata": {},
     "output_type": "execute_result"
    }
   ],
   "source": [
    "y_test"
   ]
  },
  {
   "cell_type": "code",
   "execution_count": 144,
   "metadata": {
    "collapsed": false
   },
   "outputs": [
    {
     "ename": "TypeError",
     "evalue": "ufunc 'subtract' did not contain a loop with signature matching types dtype('<U32') dtype('<U32') dtype('<U32')",
     "output_type": "error",
     "traceback": [
      "\u001b[0;31m---------------------------------------------------------------------------\u001b[0m",
      "\u001b[0;31mTypeError\u001b[0m                                 Traceback (most recent call last)",
      "\u001b[0;32m/Users/thibaut/anaconda/lib/python3.4/site-packages/pandas/core/ops.py\u001b[0m in \u001b[0;36mna_op\u001b[0;34m(x, y)\u001b[0m\n\u001b[1;32m    552\u001b[0m             result = expressions.evaluate(op, str_rep, x, y,\n\u001b[0;32m--> 553\u001b[0;31m                                           raise_on_error=True, **eval_kwargs)\n\u001b[0m\u001b[1;32m    554\u001b[0m         \u001b[0;32mexcept\u001b[0m \u001b[0mTypeError\u001b[0m\u001b[0;34m:\u001b[0m\u001b[0;34m\u001b[0m\u001b[0m\n",
      "\u001b[0;32m/Users/thibaut/anaconda/lib/python3.4/site-packages/pandas/computation/expressions.py\u001b[0m in \u001b[0;36mevaluate\u001b[0;34m(op, op_str, a, b, raise_on_error, use_numexpr, **eval_kwargs)\u001b[0m\n\u001b[1;32m    217\u001b[0m         return _evaluate(op, op_str, a, b, raise_on_error=raise_on_error,\n\u001b[0;32m--> 218\u001b[0;31m                          **eval_kwargs)\n\u001b[0m\u001b[1;32m    219\u001b[0m     \u001b[0;32mreturn\u001b[0m \u001b[0m_evaluate_standard\u001b[0m\u001b[0;34m(\u001b[0m\u001b[0mop\u001b[0m\u001b[0;34m,\u001b[0m \u001b[0mop_str\u001b[0m\u001b[0;34m,\u001b[0m \u001b[0ma\u001b[0m\u001b[0;34m,\u001b[0m \u001b[0mb\u001b[0m\u001b[0;34m,\u001b[0m \u001b[0mraise_on_error\u001b[0m\u001b[0;34m=\u001b[0m\u001b[0mraise_on_error\u001b[0m\u001b[0;34m)\u001b[0m\u001b[0;34m\u001b[0m\u001b[0m\n",
      "\u001b[0;32m/Users/thibaut/anaconda/lib/python3.4/site-packages/pandas/computation/expressions.py\u001b[0m in \u001b[0;36m_evaluate_numexpr\u001b[0;34m(op, op_str, a, b, raise_on_error, truediv, reversed, **eval_kwargs)\u001b[0m\n\u001b[1;32m    128\u001b[0m     \u001b[0;32mif\u001b[0m \u001b[0mresult\u001b[0m \u001b[0;32mis\u001b[0m \u001b[0;32mNone\u001b[0m\u001b[0;34m:\u001b[0m\u001b[0;34m\u001b[0m\u001b[0m\n\u001b[0;32m--> 129\u001b[0;31m         \u001b[0mresult\u001b[0m \u001b[0;34m=\u001b[0m \u001b[0m_evaluate_standard\u001b[0m\u001b[0;34m(\u001b[0m\u001b[0mop\u001b[0m\u001b[0;34m,\u001b[0m \u001b[0mop_str\u001b[0m\u001b[0;34m,\u001b[0m \u001b[0ma\u001b[0m\u001b[0;34m,\u001b[0m \u001b[0mb\u001b[0m\u001b[0;34m,\u001b[0m \u001b[0mraise_on_error\u001b[0m\u001b[0;34m)\u001b[0m\u001b[0;34m\u001b[0m\u001b[0m\n\u001b[0m\u001b[1;32m    130\u001b[0m \u001b[0;34m\u001b[0m\u001b[0m\n",
      "\u001b[0;32m/Users/thibaut/anaconda/lib/python3.4/site-packages/pandas/computation/expressions.py\u001b[0m in \u001b[0;36m_evaluate_standard\u001b[0;34m(op, op_str, a, b, raise_on_error, **eval_kwargs)\u001b[0m\n\u001b[1;32m     70\u001b[0m         \u001b[0m_store_test_result\u001b[0m\u001b[0;34m(\u001b[0m\u001b[0;32mFalse\u001b[0m\u001b[0;34m)\u001b[0m\u001b[0;34m\u001b[0m\u001b[0m\n\u001b[0;32m---> 71\u001b[0;31m     \u001b[0;32mreturn\u001b[0m \u001b[0mop\u001b[0m\u001b[0;34m(\u001b[0m\u001b[0ma\u001b[0m\u001b[0;34m,\u001b[0m \u001b[0mb\u001b[0m\u001b[0;34m)\u001b[0m\u001b[0;34m\u001b[0m\u001b[0m\n\u001b[0m\u001b[1;32m     72\u001b[0m \u001b[0;34m\u001b[0m\u001b[0m\n",
      "\u001b[0;32m/Users/thibaut/anaconda/lib/python3.4/site-packages/pandas/core/ops.py\u001b[0m in \u001b[0;36m<lambda>\u001b[0;34m(x, y)\u001b[0m\n\u001b[1;32m     80\u001b[0m                           default_axis=default_axis, reversed=True),\n\u001b[0;32m---> 81\u001b[0;31m         rsub=arith_method(lambda x, y: y - x, names('rsub'), op('-'),\n\u001b[0m\u001b[1;32m     82\u001b[0m                           default_axis=default_axis, reversed=True),\n",
      "\u001b[0;31mTypeError\u001b[0m: ufunc 'subtract' did not contain a loop with signature matching types dtype('<U32') dtype('<U32') dtype('<U32')",
      "\nDuring handling of the above exception, another exception occurred:\n",
      "\u001b[0;31mTypeError\u001b[0m                                 Traceback (most recent call last)",
      "\u001b[0;32m<ipython-input-144-ddf7250bb9cc>\u001b[0m in \u001b[0;36m<module>\u001b[0;34m()\u001b[0m\n\u001b[1;32m      3\u001b[0m \u001b[0mdfy\u001b[0m\u001b[0;34m[\u001b[0m\u001b[0;34m\"reviewText\"\u001b[0m\u001b[0;34m]\u001b[0m \u001b[0;34m=\u001b[0m \u001b[0mdf_test\u001b[0m\u001b[0;34m[\u001b[0m\u001b[0;34m\"reviewText\"\u001b[0m\u001b[0;34m]\u001b[0m\u001b[0;34m\u001b[0m\u001b[0m\n\u001b[1;32m      4\u001b[0m \u001b[0mdfy\u001b[0m\u001b[0;34m[\u001b[0m\u001b[0;34m\"countWordsReview\"\u001b[0m\u001b[0;34m]\u001b[0m \u001b[0;34m=\u001b[0m \u001b[0mdfy\u001b[0m\u001b[0;34m[\u001b[0m\u001b[0;34m\"reviewText\"\u001b[0m\u001b[0;34m]\u001b[0m\u001b[0;34m.\u001b[0m\u001b[0mapply\u001b[0m\u001b[0;34m(\u001b[0m\u001b[0mcountWords\u001b[0m\u001b[0;34m)\u001b[0m\u001b[0;34m\u001b[0m\u001b[0m\n\u001b[0;32m----> 5\u001b[0;31m \u001b[0mdfy\u001b[0m\u001b[0;34m[\u001b[0m\u001b[0;34m\"qualite\"\u001b[0m\u001b[0;34m]\u001b[0m \u001b[0;34m=\u001b[0m \u001b[0mabs\u001b[0m\u001b[0;34m(\u001b[0m\u001b[0mpredicted_bin_SVM_allfeatures\u001b[0m \u001b[0;34m-\u001b[0m \u001b[0my_test\u001b[0m\u001b[0;34m)\u001b[0m\u001b[0;34m\u001b[0m\u001b[0m\n\u001b[0m\u001b[1;32m      6\u001b[0m \u001b[0mdfy\u001b[0m\u001b[0;34m[\u001b[0m\u001b[0;34m\"bin\"\u001b[0m\u001b[0;34m]\u001b[0m \u001b[0;34m=\u001b[0m \u001b[0mdfy\u001b[0m\u001b[0;34m.\u001b[0m\u001b[0mapply\u001b[0m\u001b[0;34m(\u001b[0m\u001b[0mcreateBins\u001b[0m\u001b[0;34m,\u001b[0m \u001b[0maxis\u001b[0m \u001b[0;34m=\u001b[0m \u001b[0;36m1\u001b[0m\u001b[0;34m)\u001b[0m\u001b[0;34m\u001b[0m\u001b[0m\n\u001b[1;32m      7\u001b[0m \u001b[0mdfy\u001b[0m\u001b[0;34m.\u001b[0m\u001b[0mhead\u001b[0m\u001b[0;34m(\u001b[0m\u001b[0;34m)\u001b[0m\u001b[0;34m\u001b[0m\u001b[0m\n",
      "\u001b[0;32m/Users/thibaut/anaconda/lib/python3.4/site-packages/pandas/core/ops.py\u001b[0m in \u001b[0;36mwrapper\u001b[0;34m(left, right, name, na_op)\u001b[0m\n\u001b[1;32m    616\u001b[0m                 \u001b[0mlvalues\u001b[0m \u001b[0;34m=\u001b[0m \u001b[0mlvalues\u001b[0m\u001b[0;34m.\u001b[0m\u001b[0mvalues\u001b[0m\u001b[0;34m\u001b[0m\u001b[0m\n\u001b[1;32m    617\u001b[0m \u001b[0;34m\u001b[0m\u001b[0m\n\u001b[0;32m--> 618\u001b[0;31m             return left._constructor(wrap_results(na_op(lvalues, rvalues)),\n\u001b[0m\u001b[1;32m    619\u001b[0m                                      \u001b[0mindex\u001b[0m\u001b[0;34m=\u001b[0m\u001b[0mleft\u001b[0m\u001b[0;34m.\u001b[0m\u001b[0mindex\u001b[0m\u001b[0;34m,\u001b[0m \u001b[0mname\u001b[0m\u001b[0;34m=\u001b[0m\u001b[0mleft\u001b[0m\u001b[0;34m.\u001b[0m\u001b[0mname\u001b[0m\u001b[0;34m,\u001b[0m\u001b[0;34m\u001b[0m\u001b[0m\n\u001b[1;32m    620\u001b[0m                                      dtype=dtype)\n",
      "\u001b[0;32m/Users/thibaut/anaconda/lib/python3.4/site-packages/pandas/core/ops.py\u001b[0m in \u001b[0;36mna_op\u001b[0;34m(x, y)\u001b[0m\n\u001b[1;32m    557\u001b[0m                 \u001b[0mresult\u001b[0m \u001b[0;34m=\u001b[0m \u001b[0mnp\u001b[0m\u001b[0;34m.\u001b[0m\u001b[0mempty\u001b[0m\u001b[0;34m(\u001b[0m\u001b[0mx\u001b[0m\u001b[0;34m.\u001b[0m\u001b[0msize\u001b[0m\u001b[0;34m,\u001b[0m \u001b[0mdtype\u001b[0m\u001b[0;34m=\u001b[0m\u001b[0mdtype\u001b[0m\u001b[0;34m)\u001b[0m\u001b[0;34m\u001b[0m\u001b[0m\n\u001b[1;32m    558\u001b[0m                 \u001b[0mmask\u001b[0m \u001b[0;34m=\u001b[0m \u001b[0mnotnull\u001b[0m\u001b[0;34m(\u001b[0m\u001b[0mx\u001b[0m\u001b[0;34m)\u001b[0m \u001b[0;34m&\u001b[0m \u001b[0mnotnull\u001b[0m\u001b[0;34m(\u001b[0m\u001b[0my\u001b[0m\u001b[0;34m)\u001b[0m\u001b[0;34m\u001b[0m\u001b[0m\n\u001b[0;32m--> 559\u001b[0;31m                 \u001b[0mresult\u001b[0m\u001b[0;34m[\u001b[0m\u001b[0mmask\u001b[0m\u001b[0;34m]\u001b[0m \u001b[0;34m=\u001b[0m \u001b[0mop\u001b[0m\u001b[0;34m(\u001b[0m\u001b[0mx\u001b[0m\u001b[0;34m[\u001b[0m\u001b[0mmask\u001b[0m\u001b[0;34m]\u001b[0m\u001b[0;34m,\u001b[0m \u001b[0m_values_from_object\u001b[0m\u001b[0;34m(\u001b[0m\u001b[0my\u001b[0m\u001b[0;34m[\u001b[0m\u001b[0mmask\u001b[0m\u001b[0;34m]\u001b[0m\u001b[0;34m)\u001b[0m\u001b[0;34m)\u001b[0m\u001b[0;34m\u001b[0m\u001b[0m\n\u001b[0m\u001b[1;32m    560\u001b[0m             \u001b[0;32melif\u001b[0m \u001b[0misinstance\u001b[0m\u001b[0;34m(\u001b[0m\u001b[0mx\u001b[0m\u001b[0;34m,\u001b[0m \u001b[0mnp\u001b[0m\u001b[0;34m.\u001b[0m\u001b[0mndarray\u001b[0m\u001b[0;34m)\u001b[0m\u001b[0;34m:\u001b[0m\u001b[0;34m\u001b[0m\u001b[0m\n\u001b[1;32m    561\u001b[0m                 \u001b[0mresult\u001b[0m \u001b[0;34m=\u001b[0m \u001b[0mnp\u001b[0m\u001b[0;34m.\u001b[0m\u001b[0mempty\u001b[0m\u001b[0;34m(\u001b[0m\u001b[0mlen\u001b[0m\u001b[0;34m(\u001b[0m\u001b[0mx\u001b[0m\u001b[0;34m)\u001b[0m\u001b[0;34m,\u001b[0m \u001b[0mdtype\u001b[0m\u001b[0;34m=\u001b[0m\u001b[0mx\u001b[0m\u001b[0;34m.\u001b[0m\u001b[0mdtype\u001b[0m\u001b[0;34m)\u001b[0m\u001b[0;34m\u001b[0m\u001b[0m\n",
      "\u001b[0;32m/Users/thibaut/anaconda/lib/python3.4/site-packages/pandas/core/ops.py\u001b[0m in \u001b[0;36m<lambda>\u001b[0;34m(x, y)\u001b[0m\n\u001b[1;32m     79\u001b[0m         rmul=arith_method(operator.mul, names('rmul'), op('*'),\n\u001b[1;32m     80\u001b[0m                           default_axis=default_axis, reversed=True),\n\u001b[0;32m---> 81\u001b[0;31m         rsub=arith_method(lambda x, y: y - x, names('rsub'), op('-'),\n\u001b[0m\u001b[1;32m     82\u001b[0m                           default_axis=default_axis, reversed=True),\n\u001b[1;32m     83\u001b[0m         rtruediv=arith_method(lambda x, y: operator.truediv(y, x),\n",
      "\u001b[0;31mTypeError\u001b[0m: ufunc 'subtract' did not contain a loop with signature matching types dtype('<U32') dtype('<U32') dtype('<U32')"
     ]
    }
   ],
   "source": [
    "dfy = pd.DataFrame(y_test)\n",
    "dfy[\"predicted\"] = predicted_bin_SVM_allfeatures\n",
    "dfy[\"reviewText\"] = df_test[\"reviewText\"]\n",
    "dfy[\"countWordsReview\"] = dfy[\"reviewText\"].apply(countWords)\n",
    "dfy[\"qualite\"] = abs(predicted_bin_SVM_allfeatures - y_test)\n",
    "dfy[\"bin\"] = dfy.apply(createBins, axis = 1)\n",
    "dfy.head()"
   ]
  },
  {
   "cell_type": "code",
   "execution_count": null,
   "metadata": {
    "collapsed": false
   },
   "outputs": [],
   "source": [
    "np.mean(dfy[dfy.bin==30][\"qualite\"])"
   ]
  },
  {
   "cell_type": "code",
   "execution_count": null,
   "metadata": {
    "collapsed": false
   },
   "outputs": [],
   "source": [
    "sum(abs(predicted_reviewText - y_test))"
   ]
  },
  {
   "cell_type": "markdown",
   "metadata": {},
   "source": [
    "## Bits of useless code (so far)"
   ]
  },
  {
   "cell_type": "code",
   "execution_count": null,
   "metadata": {
    "collapsed": false
   },
   "outputs": [],
   "source": [
    "#an example with another function TfidfVectorizer using frequency instead of count\n",
    "from sklearn.feature_extraction.text import TfidfVectorizer\n",
    "corpus = [\"This is very strange\",\n",
    "          \"This is very nice\"]\n",
    "vectorizer = TfidfVectorizer(min_df=1)\n",
    "X = vectorizer.fit_transform(corpus)\n",
    "idf = vectorizer.idf_\n",
    "print(dict(zip(vectorizer.get_feature_names(), idf)))"
   ]
  },
  {
   "cell_type": "code",
   "execution_count": null,
   "metadata": {
    "collapsed": false
   },
   "outputs": [],
   "source": [
    "# A possible approach that would require to construct pipelines\n",
    "from sklearn.pipeline import FeatureUnion\n",
    "from sklearn.feature_extraction import HashingVectorizer\n",
    "hash_vect = HashingVectorizer()"
   ]
  },
  {
   "cell_type": "code",
   "execution_count": null,
   "metadata": {
    "collapsed": false
   },
   "outputs": [],
   "source": [
    "for i in range(0,5) :\n",
    "        print(str(corpus_test_reviewText[i]) +\"\\n\"+ \"------ We predict \"+ str(predicted_reviewText[i])+\"\\n\")"
   ]
  },
  {
   "cell_type": "markdown",
   "metadata": {},
   "source": [
    "Then: draw multi class ROC Curve using this example: http://scikit-learn.org/stable/auto_examples/model_selection/plot_roc.html"
   ]
  },
  {
   "cell_type": "markdown",
   "metadata": {},
   "source": [
    "# Todo"
   ]
  },
  {
   "cell_type": "markdown",
   "metadata": {},
   "source": [
    "- Analyse de la performance en fonction du nombre de mots\n",
    "- Ajout d'un classifieur kNN\n",
    "- Analyse des features les plus importantes dans chaque modèle"
   ]
  }
 ],
 "metadata": {
  "kernelspec": {
   "display_name": "Python 3",
   "language": "python",
   "name": "python3"
  },
  "language_info": {
   "codemirror_mode": {
    "name": "ipython",
    "version": 3
   },
   "file_extension": ".py",
   "mimetype": "text/x-python",
   "name": "python",
   "nbconvert_exporter": "python",
   "pygments_lexer": "ipython3",
   "version": "3.4.3"
  }
 },
 "nbformat": 4,
 "nbformat_minor": 0
}
